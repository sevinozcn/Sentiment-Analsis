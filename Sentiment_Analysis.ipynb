{
 "cells": [
  {
   "cell_type": "code",
   "execution_count": 1,
   "id": "f896c53a",
   "metadata": {},
   "outputs": [],
   "source": [
    "import numpy as np\n",
    "import pandas as pd"
   ]
  },
  {
   "cell_type": "code",
   "execution_count": 2,
   "id": "b173b592",
   "metadata": {},
   "outputs": [
    {
     "name": "stdout",
     "output_type": "stream",
     "text": [
      "WARNING:tensorflow:From C:\\Users\\sevin\\anaconda3\\Lib\\site-packages\\keras\\src\\losses.py:2976: The name tf.losses.sparse_softmax_cross_entropy is deprecated. Please use tf.compat.v1.losses.sparse_softmax_cross_entropy instead.\n",
      "\n"
     ]
    }
   ],
   "source": [
    "import tensorflow as tf"
   ]
  },
  {
   "cell_type": "code",
   "execution_count": 3,
   "id": "b0a411f1-beef-4769-a9c6-e1b52db8d01e",
   "metadata": {},
   "outputs": [],
   "source": [
    "from tensorflow import keras"
   ]
  },
  {
   "cell_type": "code",
   "execution_count": 4,
   "id": "7e36b127-c258-4e93-883d-f0b8c939fa18",
   "metadata": {},
   "outputs": [],
   "source": [
    "from keras.preprocessing.text import Tokenizer"
   ]
  },
  {
   "cell_type": "code",
   "execution_count": 5,
   "id": "3acc2c9d-7671-42db-9260-871f8ecb6d8d",
   "metadata": {},
   "outputs": [],
   "source": [
    "from keras.preprocessing.sequence import pad_sequences"
   ]
  },
  {
   "cell_type": "code",
   "execution_count": 6,
   "id": "6b451269-9e33-401e-9733-62e461f32031",
   "metadata": {},
   "outputs": [],
   "source": [
    "from tensorflow.keras import Sequential"
   ]
  },
  {
   "cell_type": "code",
   "execution_count": 7,
   "id": "913a385a-2e7d-4848-a2fd-537aa31657d1",
   "metadata": {},
   "outputs": [],
   "source": [
    "from tensorflow.keras.layers import GRU, Embedding"
   ]
  },
  {
   "cell_type": "code",
   "execution_count": 8,
   "id": "907e7c3b-bfc1-4695-82f3-3323e0a211d7",
   "metadata": {},
   "outputs": [],
   "source": [
    "from tensorflow.keras.layers import Dense"
   ]
  },
  {
   "cell_type": "code",
   "execution_count": 9,
   "id": "dbcc83cb-0120-4714-b249-451fee49e133",
   "metadata": {},
   "outputs": [],
   "source": [
    "from tensorflow.keras.activations import sigmoid"
   ]
  },
  {
   "cell_type": "code",
   "execution_count": 10,
   "id": "e8581eef-eb44-4224-83a0-c6fc31e80f57",
   "metadata": {},
   "outputs": [],
   "source": [
    "from keras.optimizers import Adam"
   ]
  },
  {
   "cell_type": "code",
   "execution_count": 11,
   "id": "24bc56a0-a1b8-430d-a243-939a1f669d4c",
   "metadata": {},
   "outputs": [],
   "source": [
    "dataset = pd.read_csv('hepsiburada.csv')"
   ]
  },
  {
   "cell_type": "code",
   "execution_count": 12,
   "id": "73b17581-6b1b-4c3a-97a4-3a872fb17827",
   "metadata": {},
   "outputs": [
    {
     "data": {
      "text/html": [
       "<div>\n",
       "<style scoped>\n",
       "    .dataframe tbody tr th:only-of-type {\n",
       "        vertical-align: middle;\n",
       "    }\n",
       "\n",
       "    .dataframe tbody tr th {\n",
       "        vertical-align: top;\n",
       "    }\n",
       "\n",
       "    .dataframe thead th {\n",
       "        text-align: right;\n",
       "    }\n",
       "</style>\n",
       "<table border=\"1\" class=\"dataframe\">\n",
       "  <thead>\n",
       "    <tr style=\"text-align: right;\">\n",
       "      <th></th>\n",
       "      <th>Rating</th>\n",
       "      <th>Review</th>\n",
       "    </tr>\n",
       "  </thead>\n",
       "  <tbody>\n",
       "    <tr>\n",
       "      <th>0</th>\n",
       "      <td>1</td>\n",
       "      <td>3 yıldır tık demedi. :)</td>\n",
       "    </tr>\n",
       "    <tr>\n",
       "      <th>1</th>\n",
       "      <td>1</td>\n",
       "      <td>3 yıldır kullanıyorum müthiş</td>\n",
       "    </tr>\n",
       "    <tr>\n",
       "      <th>2</th>\n",
       "      <td>1</td>\n",
       "      <td>Ürün bugün elime geçti çok fazla inceleme fırs...</td>\n",
       "    </tr>\n",
       "    <tr>\n",
       "      <th>3</th>\n",
       "      <td>1</td>\n",
       "      <td>Almaya karar verdim. Hemencecik geldi. Keyifle...</td>\n",
       "    </tr>\n",
       "    <tr>\n",
       "      <th>4</th>\n",
       "      <td>1</td>\n",
       "      <td>Günlük kullanımınızı çok çok iyi karsılıyor kı...</td>\n",
       "    </tr>\n",
       "    <tr>\n",
       "      <th>...</th>\n",
       "      <td>...</td>\n",
       "      <td>...</td>\n",
       "    </tr>\n",
       "    <tr>\n",
       "      <th>243492</th>\n",
       "      <td>1</td>\n",
       "      <td>fiyatına göre güzel</td>\n",
       "    </tr>\n",
       "    <tr>\n",
       "      <th>243493</th>\n",
       "      <td>1</td>\n",
       "      <td>Ürün kullanışlı iş görüyor fazlasıyla eşime al...</td>\n",
       "    </tr>\n",
       "    <tr>\n",
       "      <th>243494</th>\n",
       "      <td>1</td>\n",
       "      <td>Hızlı Kargo, güzel ürün</td>\n",
       "    </tr>\n",
       "    <tr>\n",
       "      <th>243495</th>\n",
       "      <td>1</td>\n",
       "      <td>telefon başarılı hızlı bir cihaz  sadece beyaz...</td>\n",
       "    </tr>\n",
       "    <tr>\n",
       "      <th>243496</th>\n",
       "      <td>1</td>\n",
       "      <td>Urun cok guzel pazar gunu siparis verdim adana...</td>\n",
       "    </tr>\n",
       "  </tbody>\n",
       "</table>\n",
       "<p>243497 rows × 2 columns</p>\n",
       "</div>"
      ],
      "text/plain": [
       "        Rating                                             Review\n",
       "0            1                            3 yıldır tık demedi. :)\n",
       "1            1                      3 yıldır kullanıyorum müthiş \n",
       "2            1  Ürün bugün elime geçti çok fazla inceleme fırs...\n",
       "3            1  Almaya karar verdim. Hemencecik geldi. Keyifle...\n",
       "4            1  Günlük kullanımınızı çok çok iyi karsılıyor kı...\n",
       "...        ...                                                ...\n",
       "243492       1                                fiyatına göre güzel\n",
       "243493       1  Ürün kullanışlı iş görüyor fazlasıyla eşime al...\n",
       "243494       1                            Hızlı Kargo, güzel ürün\n",
       "243495       1  telefon başarılı hızlı bir cihaz  sadece beyaz...\n",
       "243496       1  Urun cok guzel pazar gunu siparis verdim adana...\n",
       "\n",
       "[243497 rows x 2 columns]"
      ]
     },
     "execution_count": 12,
     "metadata": {},
     "output_type": "execute_result"
    }
   ],
   "source": [
    "dataset"
   ]
  },
  {
   "cell_type": "code",
   "execution_count": 13,
   "id": "69910998-d43b-41cc-a9fe-11701c9bf3cd",
   "metadata": {},
   "outputs": [],
   "source": [
    "target = dataset['Rating'].values.tolist() #etiketler yani sütunlar liste haline çevrildi.\n",
    "data = dataset['Review'].values.tolist()  #yorumlar yani satırlar liste haline geldi "
   ]
  },
  {
   "cell_type": "code",
   "execution_count": 14,
   "id": "6f6a9945-259a-4d4a-9169-20c32994f3f0",
   "metadata": {},
   "outputs": [],
   "source": [
    "cutoff = int(len(data) * 0.80)  #verilerin %80'i eğitim için kullanıldı.\n",
    "x_train, x_test = data[:cutoff], data[cutoff:] #ayırdığımız verileri ikiye ayırdık.\n",
    "y_train, y_test = target[:cutoff], target[cutoff:] #aynı zamanda etiketleride ikiye ayırdık."
   ]
  },
  {
   "cell_type": "code",
   "execution_count": 15,
   "id": "cda46e8b-8914-404f-94c4-3086fdd4fce1",
   "metadata": {},
   "outputs": [
    {
     "data": {
      "text/plain": [
       "'ürün sipariş verdim 2 gün içinde elime ulaştı her zaman ki gibi kullanışlı bi ürün daha once de bu mouse dan almıştım.bu yüzden tereddütsüz aldım . alacak olanlara öneririm'"
      ]
     },
     "execution_count": 15,
     "metadata": {},
     "output_type": "execute_result"
    }
   ],
   "source": [
    "x_train[500] #listedeki 500.sıradaki yorum"
   ]
  },
  {
   "cell_type": "code",
   "execution_count": 16,
   "id": "73b64e21-41c9-44b0-ab35-771a6f34ec15",
   "metadata": {},
   "outputs": [
    {
     "data": {
      "text/plain": [
       "'ürünü alalı 3 hafta kadar oldu. aralıksız kullanıyorum bilgisyarım sürekli açık durur ve ben günde yaklaşık 12 saat başındayım mousesu çok kullanırım. şimdiye kadar bir problem yaşamadım ve çok memnunum almak isteyenlere tavsiye ederim.'"
      ]
     },
     "execution_count": 16,
     "metadata": {},
     "output_type": "execute_result"
    }
   ],
   "source": [
    "x_train[800]"
   ]
  },
  {
   "cell_type": "code",
   "execution_count": 17,
   "id": "d3cea186-9b63-49df-8d94-0a964e30b762",
   "metadata": {},
   "outputs": [
    {
     "data": {
      "text/plain": [
       "1"
      ]
     },
     "execution_count": 17,
     "metadata": {},
     "output_type": "execute_result"
    }
   ],
   "source": [
    "y_train[800] #etiketteki yorumu gösterir."
   ]
  },
  {
   "cell_type": "code",
   "execution_count": 18,
   "id": "551337d9-7d56-4802-9b5c-22447b9a3348",
   "metadata": {},
   "outputs": [],
   "source": [
    "num_words = 10000 #kelime haznemizdeki kelime sayısı yani datasetin içerisinde geçen en sık 10000 kelimeyi almış oluyoruz.\n",
    "tokenizer = Tokenizer(num_words=num_words)"
   ]
  },
  {
   "cell_type": "code",
   "execution_count": 19,
   "id": "b8c7e514-1086-4aa0-a01c-e02639534eaf",
   "metadata": {},
   "outputs": [],
   "source": [
    "tokenizer.fit_on_texts(data) #tokenleştirme işlemi\n"
   ]
  },
  {
   "cell_type": "code",
   "execution_count": 20,
   "id": "df098306-569e-49cb-8f97-c62ee87b8bee",
   "metadata": {},
   "outputs": [
    {
     "data": {
      "text/plain": [
       "{'çok': 1,\n",
       " 'bir': 2,\n",
       " 've': 3,\n",
       " 'ürün': 4,\n",
       " 'bu': 5,\n",
       " 'iyi': 6,\n",
       " 'güzel': 7,\n",
       " 'için': 8,\n",
       " 'tavsiye': 9,\n",
       " 'ederim': 10,\n",
       " 'daha': 11,\n",
       " 'ama': 12,\n",
       " 'da': 13,\n",
       " 'gayet': 14,\n",
       " 'hızlı': 15,\n",
       " 'teşekkürler': 16,\n",
       " 'aldım': 17,\n",
       " 'de': 18,\n",
       " 'ürünü': 19,\n",
       " 'gibi': 20,\n",
       " 'yok': 21,\n",
       " 'uygun': 22,\n",
       " 'olarak': 23,\n",
       " 'kaliteli': 24,\n",
       " 'en': 25,\n",
       " '2': 26,\n",
       " 'kargo': 27,\n",
       " 'fiyat': 28,\n",
       " 'elime': 29,\n",
       " 'kadar': 30,\n",
       " 'ile': 31,\n",
       " 'göre': 32,\n",
       " 'geldi': 33,\n",
       " 'var': 34,\n",
       " 'hepsiburada': 35,\n",
       " 'ben': 36,\n",
       " 'gerçekten': 37,\n",
       " '1': 38,\n",
       " 'fiyata': 39,\n",
       " 'gün': 40,\n",
       " 'sonra': 41,\n",
       " 'cok': 42,\n",
       " 'kesinlikle': 43,\n",
       " 'telefon': 44,\n",
       " 'biraz': 45,\n",
       " 'hiç': 46,\n",
       " 'ulaştı': 47,\n",
       " 'memnun': 48,\n",
       " 'hem': 49,\n",
       " 'değil': 50,\n",
       " 'kullanışlı': 51,\n",
       " '3': 52,\n",
       " 'mükemmel': 53,\n",
       " 'oldu': 54,\n",
       " 'kullanıyorum': 55,\n",
       " 'önce': 56,\n",
       " 'sipariş': 57,\n",
       " 'tek': 58,\n",
       " 'her': 59,\n",
       " 'bence': 60,\n",
       " 'harika': 61,\n",
       " 'kalitesi': 62,\n",
       " 'bi': 63,\n",
       " 'ayrıca': 64,\n",
       " '5': 65,\n",
       " 'teşekkür': 66,\n",
       " 'fiyatı': 67,\n",
       " 'olması': 68,\n",
       " 'ne': 69,\n",
       " 'herkese': 70,\n",
       " 'bile': 71,\n",
       " 'uzun': 72,\n",
       " 'süper': 73,\n",
       " 'tam': 74,\n",
       " 'zaten': 75,\n",
       " 'fazla': 76,\n",
       " 'ilk': 77,\n",
       " 'o': 78,\n",
       " 'başarılı': 79,\n",
       " 'fakat': 80,\n",
       " 'memnunum': 81,\n",
       " 'ancak': 82,\n",
       " 'ediyorum': 83,\n",
       " 'şarj': 84,\n",
       " 'saat': 85,\n",
       " 'fiyatına': 86,\n",
       " 'oldukça': 87,\n",
       " 'hemen': 88,\n",
       " 'şekilde': 89,\n",
       " 'ses': 90,\n",
       " 'hepsi': 91,\n",
       " 'gerek': 92,\n",
       " 'rahat': 93,\n",
       " 'aynı': 94,\n",
       " '4': 95,\n",
       " 'şık': 96,\n",
       " 'verdim': 97,\n",
       " 'kolay': 98,\n",
       " 'diye': 99,\n",
       " 'ki': 100,\n",
       " 'sadece': 101,\n",
       " 'kaldım': 102,\n",
       " 'diğer': 103,\n",
       " 'büyük': 104,\n",
       " 'sorun': 105,\n",
       " 'alın': 106,\n",
       " 'burada': 107,\n",
       " 'kısa': 108,\n",
       " 'ürünün': 109,\n",
       " 'sorunsuz': 110,\n",
       " 'performans': 111,\n",
       " 'içinde': 112,\n",
       " 'olan': 113,\n",
       " 'günde': 114,\n",
       " 'olsun': 115,\n",
       " 'küçük': 116,\n",
       " 'urun': 117,\n",
       " '10': 118,\n",
       " 'benim': 119,\n",
       " 'başka': 120,\n",
       " 'iki': 121,\n",
       " 'olduğu': 122,\n",
       " 'teslimat': 123,\n",
       " 'com': 124,\n",
       " 'arkadaşlar': 125,\n",
       " 'sağlam': 126,\n",
       " 'oluyor': 127,\n",
       " 'teslim': 128,\n",
       " 'ettim': 129,\n",
       " 'zaman': 130,\n",
       " 'kalite': 131,\n",
       " 'almak': 132,\n",
       " 'az': 133,\n",
       " 'telefonu': 134,\n",
       " 'yeni': 135,\n",
       " 'cihaz': 136,\n",
       " 'marka': 137,\n",
       " 'son': 138,\n",
       " 'koku': 139,\n",
       " 'ise': 140,\n",
       " 'kullandım': 141,\n",
       " 'kokusu': 142,\n",
       " 'derim': 143,\n",
       " 'olduğunu': 144,\n",
       " 'özellikle': 145,\n",
       " 'beğendim': 146,\n",
       " 'sıkıntı': 147,\n",
       " 'ucuz': 148,\n",
       " 'rağmen': 149,\n",
       " 'geçti': 150,\n",
       " 'geliyor': 151,\n",
       " 'guzel': 152,\n",
       " 'bana': 153,\n",
       " 'ya': 154,\n",
       " 'ideal': 155,\n",
       " 'orjinal': 156,\n",
       " 'almıştım': 157,\n",
       " 'yeterli': 158,\n",
       " 'tane': 159,\n",
       " 'hediye': 160,\n",
       " 'sürede': 161,\n",
       " 'yani': 162,\n",
       " 'normal': 163,\n",
       " 'yaklaşık': 164,\n",
       " 'ediyor': 165,\n",
       " 'hafif': 166,\n",
       " 'bunu': 167,\n",
       " 'ekran': 168,\n",
       " 'aldığım': 169,\n",
       " 'veriyor': 170,\n",
       " '6': 171,\n",
       " 'yüksek': 172,\n",
       " 'tüm': 173,\n",
       " 'pişman': 174,\n",
       " 'tercih': 175,\n",
       " 'düşünmeden': 176,\n",
       " 'kötü': 177,\n",
       " 'düşünüyorum': 178,\n",
       " 'numara': 179,\n",
       " 'bi̇r': 180,\n",
       " 'süre': 181,\n",
       " 'kullanımı': 182,\n",
       " 'çıktı': 183,\n",
       " 'günü': 184,\n",
       " 'su': 185,\n",
       " 'adet': 186,\n",
       " 'şey': 187,\n",
       " 'hemde': 188,\n",
       " 'icin': 189,\n",
       " 'hizli': 190,\n",
       " 'çalışıyor': 191,\n",
       " 'ay': 192,\n",
       " 'hb': 193,\n",
       " 'hafta': 194,\n",
       " 'sesi': 195,\n",
       " 'alışveriş': 196,\n",
       " 'farklı': 197,\n",
       " 'kitap': 198,\n",
       " 'yine': 199,\n",
       " 'böyle': 200,\n",
       " 'zor': 201,\n",
       " 'alabilirsiniz': 202,\n",
       " 'hızı': 203,\n",
       " 'çünkü': 204,\n",
       " 'para': 205,\n",
       " 'ertesi': 206,\n",
       " 'bende': 207,\n",
       " 'kullanım': 208,\n",
       " 'sürekli': 209,\n",
       " 'duruyor': 210,\n",
       " 'aldim': 211,\n",
       " 'olur': 212,\n",
       " 'hoş': 213,\n",
       " 'artık': 214,\n",
       " 'yapıyor': 215,\n",
       " 'konusunda': 216,\n",
       " 'yorumlara': 217,\n",
       " 'gönderi': 218,\n",
       " 'olsa': 219,\n",
       " 'gücü': 220,\n",
       " 'şu': 221,\n",
       " 'vardı': 222,\n",
       " 'üründen': 223,\n",
       " 'malzeme': 224,\n",
       " 'biri': 225,\n",
       " 'pratik': 226,\n",
       " 'dışında': 227,\n",
       " 'defa': 228,\n",
       " 'kullandığım': 229,\n",
       " 'şimdi': 230,\n",
       " 'diş': 231,\n",
       " 'samsung': 232,\n",
       " 'onun': 233,\n",
       " 'bugün': 234,\n",
       " 'özelliği': 235,\n",
       " 'iş': 236,\n",
       " 'kurulumu': 237,\n",
       " 'tereddüt': 238,\n",
       " 'şarjı': 239,\n",
       " 'i̇lk': 240,\n",
       " '7': 241,\n",
       " 'ince': 242,\n",
       " 'gelen': 243,\n",
       " 'kullanmaya': 244,\n",
       " 'diyebilirim': 245,\n",
       " 'almayı': 246,\n",
       " 'pek': 247,\n",
       " 'aldık': 248,\n",
       " 'denedim': 249,\n",
       " '8': 250,\n",
       " 'tekrar': 251,\n",
       " 'çabuk': 252,\n",
       " 'karar': 253,\n",
       " 'kez': 254,\n",
       " 'sahip': 255,\n",
       " 'kendi': 256,\n",
       " 'basit': 257,\n",
       " 'dolayı': 258,\n",
       " 'derece': 259,\n",
       " 'veya': 260,\n",
       " 'kamera': 261,\n",
       " 'pil': 262,\n",
       " 'hiçbir': 263,\n",
       " 'öncelikle': 264,\n",
       " 'açısından': 265,\n",
       " 'iphone': 266,\n",
       " 'sonuç': 267,\n",
       " 'yanında': 268,\n",
       " 'sessiz': 269,\n",
       " 'pahalı': 270,\n",
       " 'işe': 271,\n",
       " 'gidiyor': 272,\n",
       " 'dan': 273,\n",
       " 'olmadı': 274,\n",
       " 'öyle': 275,\n",
       " 'tesekkurler': 276,\n",
       " 'bunun': 277,\n",
       " 'beni': 278,\n",
       " 'varsa': 279,\n",
       " 'yer': 280,\n",
       " 'gece': 281,\n",
       " 'zamanında': 282,\n",
       " 'yorum': 283,\n",
       " 'performansı': 284,\n",
       " 'parfüm': 285,\n",
       " 'evde': 286,\n",
       " 'belli': 287,\n",
       " 'eğer': 288,\n",
       " 'oyun': 289,\n",
       " 'ağır': 290,\n",
       " 'iyisi': 291,\n",
       " 'arada': 292,\n",
       " 'mutlaka': 293,\n",
       " 'zamanda': 294,\n",
       " 'usb': 295,\n",
       " 'ufak': 296,\n",
       " 'üzerinde': 297,\n",
       " 'hatta': 298,\n",
       " 'fark': 299,\n",
       " 'gönül': 300,\n",
       " 'paketleme': 301,\n",
       " 'eşim': 302,\n",
       " 'alacak': 303,\n",
       " '15': 304,\n",
       " 'gereken': 305,\n",
       " 'doğru': 306,\n",
       " 'eski': 307,\n",
       " 'herhangi': 308,\n",
       " 'aydır': 309,\n",
       " 'tl': 310,\n",
       " 'kalıcı': 311,\n",
       " 'rahatlıkla': 312,\n",
       " 'vs': 313,\n",
       " 'satın': 314,\n",
       " 'alınabilecek': 315,\n",
       " 'bundan': 316,\n",
       " 'farkı': 317,\n",
       " 'görüntü': 318,\n",
       " 'lazım': 319,\n",
       " 'gercekten': 320,\n",
       " 'şiddetle': 321,\n",
       " 'kullanmak': 322,\n",
       " 'kaçırmayın': 323,\n",
       " 'alırken': 324,\n",
       " 'kargoya': 325,\n",
       " 'yaşamadım': 326,\n",
       " 'mi': 327,\n",
       " 'yaptım': 328,\n",
       " 'prima': 329,\n",
       " 'birlikte': 330,\n",
       " 'gördüm': 331,\n",
       " 'gerekiyor': 332,\n",
       " 'telefonun': 333,\n",
       " 'ürünler': 334,\n",
       " 'ayrı': 335,\n",
       " 'önemli': 336,\n",
       " 'sayesinde': 337,\n",
       " 'bütün': 338,\n",
       " 'yıl': 339,\n",
       " 'gb': 340,\n",
       " 'alalı': 341,\n",
       " 'beklediğimden': 342,\n",
       " 'almaya': 343,\n",
       " 'yerde': 344,\n",
       " 'olmasına': 345,\n",
       " 'tv': 346,\n",
       " 'sabah': 347,\n",
       " 'devam': 348,\n",
       " 'kutu': 349,\n",
       " 'henüz': 350,\n",
       " 'falan': 351,\n",
       " 'sorunu': 352,\n",
       " 'tabi': 353,\n",
       " 'a': 354,\n",
       " '20': 355,\n",
       " 'bakarak': 356,\n",
       " 'sanırım': 357,\n",
       " 'hepsiburadaya': 358,\n",
       " 'kulaklık': 359,\n",
       " 'süresi': 360,\n",
       " 'hala': 361,\n",
       " 'muhteşem': 362,\n",
       " 'dikkat': 363,\n",
       " 'güvenilir': 364,\n",
       " 'rahatsız': 365,\n",
       " 'edilir': 366,\n",
       " 'çıkıyor': 367,\n",
       " 'alıp': 368,\n",
       " 'yüzden': 369,\n",
       " 'toz': 370,\n",
       " 'kere': 371,\n",
       " 'orijinal': 372,\n",
       " 'sağlıyor': 373,\n",
       " 'kamerası': 374,\n",
       " 'dün': 375,\n",
       " 'ürüne': 376,\n",
       " 'düşük': 377,\n",
       " 'spor': 378,\n",
       " 'i̇yi': 379,\n",
       " 'problem': 380,\n",
       " 'öneririm': 381,\n",
       " 'edildi': 382,\n",
       " 'plastik': 383,\n",
       " 'içerisinde': 384,\n",
       " 'makine': 385,\n",
       " 'beri': 386,\n",
       " 'fazlasıyla': 387,\n",
       " 'baya': 388,\n",
       " 'kullanımda': 389,\n",
       " '30': 390,\n",
       " 'tavsi̇ye': 391,\n",
       " 'an': 392,\n",
       " 'yalnız': 393,\n",
       " 'özellikleri': 394,\n",
       " 'on': 395,\n",
       " 'den': 396,\n",
       " 'satıcı': 397,\n",
       " 'ilgili': 398,\n",
       " 'genel': 399,\n",
       " 'oldum': 400,\n",
       " 'kaç': 401,\n",
       " 'etkili': 402,\n",
       " 'sıcak': 403,\n",
       " 'haftadır': 404,\n",
       " 'üstelik': 405,\n",
       " 'fiyatıda': 406,\n",
       " 'olmuş': 407,\n",
       " '24': 408,\n",
       " 'yada': 409,\n",
       " 'hep': 410,\n",
       " 'üst': 411,\n",
       " 'olabilir': 412,\n",
       " 'paket': 413,\n",
       " 'bazı': 414,\n",
       " 'almışım': 415,\n",
       " 'güçlü': 416,\n",
       " 'piyasada': 417,\n",
       " 'yerine': 418,\n",
       " 'arasında': 419,\n",
       " 'renk': 420,\n",
       " 'inanılmaz': 421,\n",
       " 'arkadaşlara': 422,\n",
       " 'paraya': 423,\n",
       " 'kurulum': 424,\n",
       " 'umarım': 425,\n",
       " 'sert': 426,\n",
       " 'kitabı': 427,\n",
       " 'ederi̇m': 428,\n",
       " 'olmuyor': 429,\n",
       " 'fena': 430,\n",
       " 'gitti': 431,\n",
       " 'servis': 432,\n",
       " 'altında': 433,\n",
       " 'üzerine': 434,\n",
       " 'nasıl': 435,\n",
       " 'birde': 436,\n",
       " 'ye': 437,\n",
       " 'gelince': 438,\n",
       " 'birşey': 439,\n",
       " 'note': 440,\n",
       " 'yorumları': 441,\n",
       " 'başladım': 442,\n",
       " 'olanlar': 443,\n",
       " 'ön': 444,\n",
       " '0': 445,\n",
       " 'dk': 446,\n",
       " 'üründe': 447,\n",
       " 'sanki': 448,\n",
       " 'kalitesini': 449,\n",
       " 'i̇yi̇': 450,\n",
       " 'sarj': 451,\n",
       " 'almadan': 452,\n",
       " 'etti': 453,\n",
       " 'alıyorum': 454,\n",
       " 'ev': 455,\n",
       " 'cihazı': 456,\n",
       " 'kullanıyoruz': 457,\n",
       " 'geç': 458,\n",
       " 'eşime': 459,\n",
       " 'görünce': 460,\n",
       " 'memnunuz': 461,\n",
       " 'yıldır': 462,\n",
       " 'edici': 463,\n",
       " 'bez': 464,\n",
       " 'arka': 465,\n",
       " 'saatte': 466,\n",
       " 'anda': 467,\n",
       " 'tamamen': 468,\n",
       " 'hizmet': 469,\n",
       " 'çekim': 470,\n",
       " 'herkes': 471,\n",
       " 'parmak': 472,\n",
       " 'akşam': 473,\n",
       " 'tutuyor': 474,\n",
       " 'geçen': 475,\n",
       " 'gore': 476,\n",
       " 'android': 477,\n",
       " 'elimize': 478,\n",
       " '12': 479,\n",
       " 'telefona': 480,\n",
       " 'temizlik': 481,\n",
       " 'görünüyor': 482,\n",
       " 'yumuşak': 483,\n",
       " 'kablo': 484,\n",
       " 'buradan': 485,\n",
       " '100': 486,\n",
       " 'kısmı': 487,\n",
       " 'size': 488,\n",
       " 'orta': 489,\n",
       " 'piyasadaki': 490,\n",
       " 'net': 491,\n",
       " 'hak': 492,\n",
       " 'yere': 493,\n",
       " 'günlük': 494,\n",
       " 'beğendi': 495,\n",
       " 'rahatlığıyla': 496,\n",
       " 'eder': 497,\n",
       " 'hız': 498,\n",
       " 'müzik': 499,\n",
       " 'kalın': 500,\n",
       " 'siyah': 501,\n",
       " 'urunu': 502,\n",
       " 'degil': 503,\n",
       " 'bedava': 504,\n",
       " 'istediğim': 505,\n",
       " 'oğlum': 506,\n",
       " 'saç': 507,\n",
       " 'güvenli': 508,\n",
       " 'kılıf': 509,\n",
       " 'onu': 510,\n",
       " 'yıldız': 511,\n",
       " 'yoksa': 512,\n",
       " 'çıkan': 513,\n",
       " 'hesaplı': 514,\n",
       " 'etmeden': 515,\n",
       " 'hava': 516,\n",
       " 'piyasaya': 517,\n",
       " 'kilo': 518,\n",
       " 'ışık': 519,\n",
       " 'neredeyse': 520,\n",
       " 'fotoğraf': 521,\n",
       " 'i̇çi̇n': 522,\n",
       " 'tşk': 523,\n",
       " 'belki': 524,\n",
       " 'olurdu': 525,\n",
       " 'kablosu': 526,\n",
       " 'bır': 527,\n",
       " 'mı': 528,\n",
       " 'gündür': 529,\n",
       " 'temiz': 530,\n",
       " 'garantili': 531,\n",
       " 'içine': 532,\n",
       " 'alınabilir': 533,\n",
       " 'herşey': 534,\n",
       " 'almanızı': 535,\n",
       " 'siparişi': 536,\n",
       " 'olmaz': 537,\n",
       " 'keşke': 538,\n",
       " 'kendini': 539,\n",
       " 'olacak': 540,\n",
       " 'yakın': 541,\n",
       " 'rengi': 542,\n",
       " 'gun': 543,\n",
       " 'süpürge': 544,\n",
       " 'traş': 545,\n",
       " 'çift': 546,\n",
       " 'şuan': 547,\n",
       " 'gönderim': 548,\n",
       " 'buna': 549,\n",
       " 'motor': 550,\n",
       " 'birkaç': 551,\n",
       " 'hoşuma': 552,\n",
       " 'tasarımı': 553,\n",
       " 'kaldık': 554,\n",
       " 'verdiğim': 555,\n",
       " 'hic': 556,\n",
       " 'değer': 557,\n",
       " 'yağ': 558,\n",
       " 'ekonomik': 559,\n",
       " 'dedim': 560,\n",
       " 'tatmin': 561,\n",
       " 'isteyenlere': 562,\n",
       " 'içinden': 563,\n",
       " 'araştırdım': 564,\n",
       " 'oda': 565,\n",
       " 'yıllardır': 566,\n",
       " 'mevcut': 567,\n",
       " 'kızım': 568,\n",
       " 'kalıyor': 569,\n",
       " 'yapmak': 570,\n",
       " 'buldum': 571,\n",
       " 'şimdilik': 572,\n",
       " 'yanı': 573,\n",
       " 'makina': 574,\n",
       " 'görüyor': 575,\n",
       " 'model': 576,\n",
       " 'kargoda': 577,\n",
       " 'kaldı': 578,\n",
       " '9': 579,\n",
       " 'üstünde': 580,\n",
       " 'avantaj': 581,\n",
       " 'sizi': 582,\n",
       " 'alet': 583,\n",
       " 'müthiş': 584,\n",
       " 'metal': 585,\n",
       " 'ürünleri': 586,\n",
       " 'mouse': 587,\n",
       " 'beraber': 588,\n",
       " 'bebek': 589,\n",
       " 'kullanıyordum': 590,\n",
       " 'geri': 591,\n",
       " 'ederiz': 592,\n",
       " 'başta': 593,\n",
       " 'makul': 594,\n",
       " 'olmazsınız': 595,\n",
       " 'apple': 596,\n",
       " 'yaptı': 597,\n",
       " 'okudum': 598,\n",
       " 'elimde': 599,\n",
       " 'görür': 600,\n",
       " 'olduğundan': 601,\n",
       " 'fiyatının': 602,\n",
       " 'açık': 603,\n",
       " 'üzerinden': 604,\n",
       " 'aşırı': 605,\n",
       " 'özellik': 606,\n",
       " 'e': 607,\n",
       " 'olanlara': 608,\n",
       " 'izi': 609,\n",
       " 'garanti': 610,\n",
       " 'film': 611,\n",
       " 'biz': 612,\n",
       " 'yavaş': 613,\n",
       " 'ucuza': 614,\n",
       " 'bişey': 615,\n",
       " 'tartışılmaz': 616,\n",
       " 'sene': 617,\n",
       " 'super': 618,\n",
       " 'site': 619,\n",
       " 'birçok': 620,\n",
       " 'ücretsiz': 621,\n",
       " 'sonunda': 622,\n",
       " 'ısınma': 623,\n",
       " 'saati': 624,\n",
       " 'batarya': 625,\n",
       " 'kapalı': 626,\n",
       " 'olumsuz': 627,\n",
       " 'alan': 628,\n",
       " 'hediyesi': 629,\n",
       " 'kullaniyorum': 630,\n",
       " 'yapmıyor': 631,\n",
       " 'eve': 632,\n",
       " 'evet': 633,\n",
       " 'önceki': 634,\n",
       " 'sık': 635,\n",
       " 'hakkını': 636,\n",
       " 'beklediğim': 637,\n",
       " 'kelimeyle': 638,\n",
       " 'beyaz': 639,\n",
       " 'zorunda': 640,\n",
       " 'üç': 641,\n",
       " 'kat': 642,\n",
       " 'telefonda': 643,\n",
       " 'tasarım': 644,\n",
       " 'dakika': 645,\n",
       " 'etmek': 646,\n",
       " 'uyumlu': 647,\n",
       " 'önceden': 648,\n",
       " 'olunca': 649,\n",
       " 'severek': 650,\n",
       " 'isteyenler': 651,\n",
       " 'diyorum': 652,\n",
       " 'çanta': 653,\n",
       " 'el': 654,\n",
       " 'istedim': 655,\n",
       " 'iyiki': 656,\n",
       " 'kullanın': 657,\n",
       " 'yoktu': 658,\n",
       " 'sıkıntısı': 659,\n",
       " 'ikinci': 660,\n",
       " 'yorumlarda': 661,\n",
       " 'çekiyor': 662,\n",
       " 'bilmiyorum': 663,\n",
       " 'kullanma': 664,\n",
       " 'araç': 665,\n",
       " 'edin': 666,\n",
       " 'görüntüsü': 667,\n",
       " 'firma': 668,\n",
       " 'alıyor': 669,\n",
       " 'hepsi̇burada': 670,\n",
       " 'alt': 671,\n",
       " 'olmadan': 672,\n",
       " 'bazen': 673,\n",
       " 'dayanıklı': 674,\n",
       " 'olmaması': 675,\n",
       " 'ona': 676,\n",
       " 'iade': 677,\n",
       " 'fiyatlı': 678,\n",
       " 'internet': 679,\n",
       " 'geniş': 680,\n",
       " 'philips': 681,\n",
       " 'koltuk': 682,\n",
       " 'elimdeydi': 683,\n",
       " 'kullanan': 684,\n",
       " 'yaparken': 685,\n",
       " 'derecede': 686,\n",
       " 'asla': 687,\n",
       " '16': 688,\n",
       " 'kalitede': 689,\n",
       " 'taktım': 690,\n",
       " 'resmen': 691,\n",
       " 'eden': 692,\n",
       " 'halde': 693,\n",
       " 'merhaba': 694,\n",
       " 'mukemmel': 695,\n",
       " 'hassas': 696,\n",
       " 'başladı': 697,\n",
       " 'zarar': 698,\n",
       " 'kalitesiz': 699,\n",
       " 'aylık': 700,\n",
       " 'açıkçası': 701,\n",
       " 'mutlu': 702,\n",
       " 'alin': 703,\n",
       " 'yeri': 704,\n",
       " 'ram': 705,\n",
       " 'neden': 706,\n",
       " 'eksiksiz': 707,\n",
       " 'paketlenmiş': 708,\n",
       " 'idi': 709,\n",
       " 'idare': 710,\n",
       " 'iyiydi': 711,\n",
       " 'olabilirdi': 712,\n",
       " 'yarıyor': 713,\n",
       " 'gerekli': 714,\n",
       " 'olduğum': 715,\n",
       " '50': 716,\n",
       " 'parfümü': 717,\n",
       " 'buradaya': 718,\n",
       " 'kelime': 719,\n",
       " 'herkesin': 720,\n",
       " 'olmasi': 721,\n",
       " 'ara': 722,\n",
       " 'verildi': 723,\n",
       " 'yoğun': 724,\n",
       " 'etkisi': 725,\n",
       " 'vermeye': 726,\n",
       " 'saçlarım': 727,\n",
       " 'siz': 728,\n",
       " 'kullanıyor': 729,\n",
       " 'b': 730,\n",
       " '40': 731,\n",
       " 'zamandır': 732,\n",
       " 'yapan': 733,\n",
       " 'olmayan': 734,\n",
       " 'yorumlar': 735,\n",
       " 'ayrica': 736,\n",
       " 'yinede': 737,\n",
       " 'kendim': 738,\n",
       " 'ulasti': 739,\n",
       " 'hafıza': 740,\n",
       " 'etmiyor': 741,\n",
       " 'almış': 742,\n",
       " 'yapılmış': 743,\n",
       " 'verdikten': 744,\n",
       " 'kendime': 745,\n",
       " 'yedek': 746,\n",
       " 'düşünenlere': 747,\n",
       " 'durum': 748,\n",
       " 'sonuçta': 749,\n",
       " 'yerden': 750,\n",
       " 'etmiyorum': 751,\n",
       " 'video': 752,\n",
       " 'çekiş': 753,\n",
       " 'cuma': 754,\n",
       " 'cam': 755,\n",
       " 'uygulama': 756,\n",
       " 'içi': 757,\n",
       " 'işi': 758,\n",
       " 'eksik': 759,\n",
       " 'ihtiyacı': 760,\n",
       " 'eksiği': 761,\n",
       " 'faydalı': 762,\n",
       " 'göz': 763,\n",
       " 'deneme': 764,\n",
       " 'isteyen': 765,\n",
       " 'acaba': 766,\n",
       " 'kısacası': 767,\n",
       " 'kullanabilirsiniz': 768,\n",
       " 'merak': 769,\n",
       " 'temizliyor': 770,\n",
       " 'ürünle': 771,\n",
       " 'rahatlığı': 772,\n",
       " 'p': 773,\n",
       " 'türkiye': 774,\n",
       " 'hepsiburadadan': 775,\n",
       " 'aldı': 776,\n",
       " 'görmedim': 777,\n",
       " 'test': 778,\n",
       " 'ana': 779,\n",
       " 'aldıktan': 780,\n",
       " 'aleti': 781,\n",
       " 'şimdiye': 782,\n",
       " 'yapıyorum': 783,\n",
       " 'olumlu': 784,\n",
       " 'hakkında': 785,\n",
       " 'piyasa': 786,\n",
       " 'ekranı': 787,\n",
       " 'mümkün': 788,\n",
       " 'kış': 789,\n",
       " 'siparis': 790,\n",
       " 'd': 791,\n",
       " 'malı': 792,\n",
       " 'elinize': 793,\n",
       " 'km': 794,\n",
       " 'gösteriyor': 795,\n",
       " 'haricinde': 796,\n",
       " 'donma': 797,\n",
       " 'denemek': 798,\n",
       " 'türlü': 799,\n",
       " 'i': 800,\n",
       " 'alacaklara': 801,\n",
       " 'elde': 802,\n",
       " 'dış': 803,\n",
       " 'dokunmatik': 804,\n",
       " 'gerçek': 805,\n",
       " 'tabiki': 806,\n",
       " 'ürünlere': 807,\n",
       " 'boyutu': 808,\n",
       " 'hissi': 809,\n",
       " 'söyleyebilirim': 810,\n",
       " 'cabası': 811,\n",
       " 'kaldim': 812,\n",
       " 'emiş': 813,\n",
       " 'kanal': 814,\n",
       " 'takip': 815,\n",
       " 'problemi': 816,\n",
       " 'tavsiyem': 817,\n",
       " 'kargolama': 818,\n",
       " 'aslında': 819,\n",
       " 'dahi': 820,\n",
       " 'yardımcı': 821,\n",
       " 'akıcı': 822,\n",
       " 'ütü': 823,\n",
       " 'konuda': 824,\n",
       " 'hayırlı': 825,\n",
       " 'değilim': 826,\n",
       " 'herkeze': 827,\n",
       " 'karşı': 828,\n",
       " 'markanın': 829,\n",
       " 'kutusu': 830,\n",
       " 'elektrik': 831,\n",
       " 'yaz': 832,\n",
       " 'yerli': 833,\n",
       " 'tavsıye': 834,\n",
       " 'emin': 835,\n",
       " 's': 836,\n",
       " 'lg': 837,\n",
       " 'once': 838,\n",
       " 'araba': 839,\n",
       " 'pazartesi': 840,\n",
       " 'f': 841,\n",
       " 'kullandıktan': 842,\n",
       " 'yatak': 843,\n",
       " 'zarif': 844,\n",
       " 'gelir': 845,\n",
       " 'beden': 846,\n",
       " 'özel': 847,\n",
       " 'ciddi': 848,\n",
       " 'kontrol': 849,\n",
       " 'olmak': 850,\n",
       " 'i̇ki': 851,\n",
       " 'zamanla': 852,\n",
       " 'fayda': 853,\n",
       " 'istiyorsanız': 854,\n",
       " 'bağlantı': 855,\n",
       " 'sıfır': 856,\n",
       " 'çıkmadı': 857,\n",
       " 'ayni': 858,\n",
       " 'parasını': 859,\n",
       " 'fön': 860,\n",
       " 'anladım': 861,\n",
       " 'düzgün': 862,\n",
       " 'olmadığı': 863,\n",
       " 'fiyatını': 864,\n",
       " 'kibar': 865,\n",
       " 'veren': 866,\n",
       " 'sağlıklı': 867,\n",
       " 'birisi': 868,\n",
       " 'soğuk': 869,\n",
       " 'montaj': 870,\n",
       " 'klasik': 871,\n",
       " 'parça': 872,\n",
       " 'yarım': 873,\n",
       " 'telefondan': 874,\n",
       " 'okuma': 875,\n",
       " 'makinesi': 876,\n",
       " 'verilen': 877,\n",
       " 'düzenli': 878,\n",
       " 'düşünmeyin': 879,\n",
       " 'kullanılabilir': 880,\n",
       " 'koruyucu': 881,\n",
       " 'anneme': 882,\n",
       " 'hale': 883,\n",
       " 'ömrü': 884,\n",
       " 'kalitesine': 885,\n",
       " 'bulmak': 886,\n",
       " 'kullanmadım': 887,\n",
       " 'saglam': 888,\n",
       " 'normalde': 889,\n",
       " 'cm': 890,\n",
       " 'xiaomi': 891,\n",
       " 'beklemeyin': 892,\n",
       " 'çoğu': 893,\n",
       " 'pili': 894,\n",
       " 'çocuk': 895,\n",
       " 'bakımından': 896,\n",
       " 'birebir': 897,\n",
       " 'yazma': 898,\n",
       " 'boyu': 899,\n",
       " 'hareket': 900,\n",
       " 'siteden': 901,\n",
       " 'cihazın': 902,\n",
       " 'led': 903,\n",
       " 'tahmin': 904,\n",
       " 'kapak': 905,\n",
       " 'bilgisayar': 906,\n",
       " 'ısınıyor': 907,\n",
       " 'eksi': 908,\n",
       " 'gelmesi': 909,\n",
       " 'kalmadı': 910,\n",
       " 'begendim': 911,\n",
       " 'kullanisli': 912,\n",
       " 'verip': 913,\n",
       " 'günden': 914,\n",
       " 'kaçmaz': 915,\n",
       " 'sürükleyici': 916,\n",
       " 'sonucu': 917,\n",
       " 'markası': 918,\n",
       " 'indirim': 919,\n",
       " 'oranı': 920,\n",
       " 'arkadaşım': 921,\n",
       " 'telefonum': 922,\n",
       " 'temizliği': 923,\n",
       " 'şarjlı': 924,\n",
       " 'kullanırken': 925,\n",
       " 'zayıf': 926,\n",
       " 'tesekkur': 927,\n",
       " 'çıkarıyor': 928,\n",
       " 'karşıladı': 929,\n",
       " 'sistemi': 930,\n",
       " 'akıllı': 931,\n",
       " 'ortalama': 932,\n",
       " 'direk': 933,\n",
       " 'alınır': 934,\n",
       " 'olsaydı': 935,\n",
       " 'arkadaslar': 936,\n",
       " 'profesyonel': 937,\n",
       " 'boşuna': 938,\n",
       " 'hd': 939,\n",
       " 'sony': 940,\n",
       " 'iç': 941,\n",
       " 'ekstra': 942,\n",
       " 'yi': 943,\n",
       " 'kuru': 944,\n",
       " 'sonrası': 945,\n",
       " 'almayın': 946,\n",
       " 'lik': 947,\n",
       " 'kusursuz': 948,\n",
       " 'başlık': 949,\n",
       " 'seviyede': 950,\n",
       " 'bluetooth': 951,\n",
       " 'kullanmıştım': 952,\n",
       " 'burda': 953,\n",
       " 'genelde': 954,\n",
       " 'kokuyu': 955,\n",
       " 'olacağını': 956,\n",
       " 'siparişim': 957,\n",
       " 'burdan': 958,\n",
       " 'kampanya': 959,\n",
       " 'nin': 960,\n",
       " 'olanı': 961,\n",
       " 'vestel': 962,\n",
       " 'alacağım': 963,\n",
       " 'tarafı': 964,\n",
       " 'insan': 965,\n",
       " 'artı': 966,\n",
       " 'paketi': 967,\n",
       " 'ayarı': 968,\n",
       " 'karşılıyor': 969,\n",
       " 'üstüne': 970,\n",
       " 'premium': 971,\n",
       " 'kalıcılığı': 972,\n",
       " 'eminim': 973,\n",
       " 'olup': 974,\n",
       " 'ürünlerden': 975,\n",
       " 'malzemesi': 976,\n",
       " 'mavi': 977,\n",
       " 'buradaki': 978,\n",
       " 'markalara': 979,\n",
       " 'parlak': 980,\n",
       " 'söz': 981,\n",
       " 'ergonomik': 982,\n",
       " 'yaptığım': 983,\n",
       " 'kendisi': 984,\n",
       " 'düşünen': 985,\n",
       " 'hızlıydı': 986,\n",
       " 'kasma': 987,\n",
       " 'fiyatta': 988,\n",
       " 'enerji': 989,\n",
       " 'kolayca': 990,\n",
       " 'yan': 991,\n",
       " 'pc': 992,\n",
       " '00': 993,\n",
       " 'bol': 994,\n",
       " 'kablosuz': 995,\n",
       " 'full': 996,\n",
       " 'işinizi': 997,\n",
       " 'modeli': 998,\n",
       " 'oturuyor': 999,\n",
       " 'kişi': 1000,\n",
       " ...}"
      ]
     },
     "execution_count": 20,
     "metadata": {},
     "output_type": "execute_result"
    }
   ],
   "source": [
    "tokenizer.word_index #datasetinde en çok kullanılan kelimeler çoktan aza göre sıralanıcak."
   ]
  },
  {
   "cell_type": "code",
   "execution_count": 21,
   "id": "1fb8135a-8e2e-43b0-b7cb-cbf850c21942",
   "metadata": {},
   "outputs": [],
   "source": [
    "x_train_tokens = tokenizer.texts_to_sequences(x_train) #eğitim setini tokenleştirme işlemi"
   ]
  },
  {
   "cell_type": "code",
   "execution_count": 22,
   "id": "5ec0d496-95f8-4a71-9caf-7ed42b951de5",
   "metadata": {},
   "outputs": [
    {
     "data": {
      "text/plain": [
       "'ürünü alalı 3 hafta kadar oldu. aralıksız kullanıyorum bilgisyarım sürekli açık durur ve ben günde yaklaşık 12 saat başındayım mousesu çok kullanırım. şimdiye kadar bir problem yaşamadım ve çok memnunum almak isteyenlere tavsiye ederim.'"
      ]
     },
     "execution_count": 22,
     "metadata": {},
     "output_type": "execute_result"
    }
   ],
   "source": [
    "x_train[800] #800.yoruma bakalım"
   ]
  },
  {
   "cell_type": "code",
   "execution_count": 23,
   "id": "55890dcb-8349-4f66-aef6-f2ac3a645b33",
   "metadata": {},
   "outputs": [
    {
     "name": "stdout",
     "output_type": "stream",
     "text": [
      "[19, 341, 52, 194, 30, 54, 7992, 55, 209, 603, 7887, 3, 36, 114, 164, 479, 85, 1, 1682, 782, 30, 2, 380, 326, 3, 1, 81, 132, 562, 9, 10]\n"
     ]
    }
   ],
   "source": [
    "print(x_train_tokens[800]) #800.yorumun token hali "
   ]
  },
  {
   "cell_type": "code",
   "execution_count": 24,
   "id": "e3400956-4b14-4ef7-997d-8231ba98fffd",
   "metadata": {},
   "outputs": [],
   "source": [
    "#yani x_train içindeki kelimeler yukarıda görüldü gibi her kelimeye karşılık gelen integer sayılardan oluşturuldu.\n",
    "#tabiki cümlemiz içinde başta seçtğimiz 10000 kelime arasında olan kelimelerden yoksa o kelimeyi yok sayacaktır en sık \n",
    "#kullanılan 10000 kelimeyi içerdiğinde atadığı integer sayıları görmüş oluyoruz."
   ]
  },
  {
   "cell_type": "code",
   "execution_count": 25,
   "id": "e9ade6cd-c743-43b3-9a5d-5b42c5019156",
   "metadata": {},
   "outputs": [],
   "source": [
    "x_test_tokens = tokenizer.texts_to_sequences(x_test) #test setimizi tokenleştiriyoruz."
   ]
  },
  {
   "cell_type": "code",
   "execution_count": 26,
   "id": "88a349f9-fc3a-40fe-b920-e9fcc5407b4e",
   "metadata": {},
   "outputs": [],
   "source": [
    "num_tokens = [len(tokens) for tokens in x_train_tokens + x_test_tokens] #her yorumda kaç token olduğunu hesaplayarak listeye yazar\n",
    "num_tokens = np.array(num_tokens) #liste üzerinde işlem yapmayı kolaylaştırma açısından diziye dönüştürdüm."
   ]
  },
  {
   "cell_type": "code",
   "execution_count": 27,
   "id": "ce099662-19e0-46f1-8586-dcb51eb2c501",
   "metadata": {},
   "outputs": [
    {
     "data": {
      "text/plain": [
       "20.744703220162876"
      ]
     },
     "execution_count": 27,
     "metadata": {},
     "output_type": "execute_result"
    }
   ],
   "source": [
    "np.mean(num_tokens) #yorumlarda ortalama kaç token olduğunu görmek için"
   ]
  },
  {
   "cell_type": "code",
   "execution_count": 28,
   "id": "d8b386a5-3003-4e94-9b99-198d7fa04786",
   "metadata": {},
   "outputs": [
    {
     "data": {
      "text/plain": [
       "295"
      ]
     },
     "execution_count": 28,
     "metadata": {},
     "output_type": "execute_result"
    }
   ],
   "source": [
    "np.max(num_tokens) #en fazla token bulunduran yorum kaç token sayısı bulunduruyor bunu gösterir."
   ]
  },
  {
   "cell_type": "code",
   "execution_count": 29,
   "id": "b302e1e5-31d8-43d0-9545-44e6d0fcd7e1",
   "metadata": {},
   "outputs": [
    {
     "data": {
      "text/plain": [
       "21941"
      ]
     },
     "execution_count": 29,
     "metadata": {},
     "output_type": "execute_result"
    }
   ],
   "source": [
    "np.argmax(num_tokens) #argmax ile listedeki en büyük elemanın indexini buluruz.\n",
    "#en uzun yorumun indexi:"
   ]
  },
  {
   "cell_type": "code",
   "execution_count": 30,
   "id": "8035810d-1117-400f-b839-f0a227eab7ca",
   "metadata": {},
   "outputs": [
    {
     "data": {
      "text/plain": [
       "'Özellikle bu kısma yazıyorum iyice okuyunuz,cihazın hızı çok iyi.Isınma normal boyutlarda.Kamerası elinizi sabit tutarsanız ve gündüz çok net gece ise çok net çekmez.Görüntülü konuşma özelliği yok ancak uygulama ile olur,anten çekimi gayet iyi.Parmak izi okuyucusu gayet hızlı bazen tuşu silmenizi istiyor ve okuyamıyor kirden vs...Ön kamera da tatmin edici,çekim esnasında ekran beyaz ışık vererek flaş görevi görür.Batarya bana 1 hafta gidiyor sık kullanımda ise 2-3 gün gidiyor.Hızlı şarj 1 saatte doluyor , şekilleri ele oturuyor ve şık bir görüntü var.Telefonu aldığım gün gittim ve ilk girdiğim yerden ekran koruyucu ve kılıf buldum.Kulaklık sesi çok net ve yüksek ancak kendi hoparlörü biraz zayıf sesi.Ekrana bakarken açık kalma özelliği yok.Diğer akıllı cihaz özellikleri %90 ı bu cihazda mevcut.Güç tasarrufu 2 ayrı modu var ve çok başarılı çalışıyor.4gb ram var genelde yarısı boş kalıyor.Bir de yeni cihazların çoğu titreşimi az ve sesi de az çıkıyor.Bu cihaz da içine dahil...Bu cihazlar güncelleme almaz ve rom bulunmuyormuş.Benim için güncelleme sorun olmaz -cihaz parasına göre s serisi ile yarışıyor çünkü.Biraz metal olmasından dolayı elden kolay kaysada duruşu ve gösterişi iyidir.Çift flaşı var arkada.Kısaca şöyle ki bu fiyata bu ürün alınır.5 aydır kullanıyorum kasma donma felan zaten olmaz,bataryası iyi,şekli iyi,özellikler de iyi....En büyük kafa karıştıran soru şu ki hadi cihaz arıza yaptı veya düştü ekranı kırıldı.Bunun bir servisi var,ithalatçı garantisi de var.Cihazın adı sanı belli...Parça bulanmaz tamir olmaz derseniz size kalmış.Zaten normal bir cihazı da düşürseniz farkedermi?.Güncelleme almaz diyorlar bu konuda düşünebilirsiniz.S serisi cihazlarla hızını kıyaslarsınız ama güncelleme ile araya fark koymuşlar.İki katı fiyata satılan cihazla farkı olmasa zaten olmaz değil mi?Almayı düşünenler başka bir cihazla kıyas yapacaksa yine  7pro veya 9 baksınlar.C5 pro da biraz boyutu kısa ve kibar....Sonuçta ömürlük değil alın fazla düşünmeyin'"
      ]
     },
     "execution_count": 30,
     "metadata": {},
     "output_type": "execute_result"
    }
   ],
   "source": [
    "#datasetimizdeki en uzun yoruma bakmak için:\n",
    "x_train[21941]"
   ]
  },
  {
   "cell_type": "code",
   "execution_count": 31,
   "id": "058cdfcc-2937-457a-86de-2f1e536f81df",
   "metadata": {},
   "outputs": [
    {
     "data": {
      "text/plain": [
       "59"
      ]
     },
     "execution_count": 31,
     "metadata": {},
     "output_type": "execute_result"
    }
   ],
   "source": [
    "max_tokens = np.mean(num_tokens) + 2 * np.std(num_tokens) #Padding işlemi: yorumların boyutlarını belirlemek için\n",
    "max_tokens = int(max_tokens)                              #ortalama bir boyut belirleme işlemidir \n",
    "max_tokens        "
   ]
  },
  {
   "cell_type": "code",
   "execution_count": 32,
   "id": "e4b9a94e-cb36-4dc2-81b1-01c98de57258",
   "metadata": {},
   "outputs": [
    {
     "data": {
      "text/plain": [
       "0.9597982726686571"
      ]
     },
     "execution_count": 32,
     "metadata": {},
     "output_type": "execute_result"
    }
   ],
   "source": [
    "#yorumların kaç tanesi 59 token bulundurduğuna bakalım.\n",
    "np.sum(num_tokens < max_tokens) / len(num_tokens)"
   ]
  },
  {
   "cell_type": "code",
   "execution_count": 33,
   "id": "f013d52f-2bf8-46ba-acfe-b13f43a2e248",
   "metadata": {},
   "outputs": [],
   "source": [
    "x_train_pad = pad_sequences(x_train_tokens, maxlen=max_tokens) #padding\n",
    "#eğitim setindeki her yorumu eşit boyuta getirdik yani her yorum 59 uzunluğunda olucak"
   ]
  },
  {
   "cell_type": "code",
   "execution_count": 34,
   "id": "d69742d9-1350-4f6d-a060-9a082397628f",
   "metadata": {},
   "outputs": [],
   "source": [
    "x_test_pad = pad_sequences(x_test_tokens, maxlen=max_tokens) #padding\n",
    "#aynı işlemi test setimiz içinde gerçekleştirdim. Artık tüm yorumların uzunluğu 59 olmuş oldu."
   ]
  },
  {
   "cell_type": "code",
   "execution_count": 35,
   "id": "787ee374-e07b-431a-a94f-b1fa51d8bc87",
   "metadata": {},
   "outputs": [
    {
     "data": {
      "text/plain": [
       "(194797, 59)"
      ]
     },
     "execution_count": 35,
     "metadata": {},
     "output_type": "execute_result"
    }
   ],
   "source": [
    "x_train_pad.shape #padding eklenmiş mi diye test ediyoruz."
   ]
  },
  {
   "cell_type": "code",
   "execution_count": 36,
   "id": "fd382ee9-89bf-4c81-801d-b7ee1da9b899",
   "metadata": {},
   "outputs": [
    {
     "data": {
      "text/plain": [
       "(48700, 59)"
      ]
     },
     "execution_count": 36,
     "metadata": {},
     "output_type": "execute_result"
    }
   ],
   "source": [
    "x_test_pad.shape"
   ]
  },
  {
   "cell_type": "code",
   "execution_count": 37,
   "id": "6042ebc3-05fd-434d-8714-b6515fc820af",
   "metadata": {},
   "outputs": [
    {
     "data": {
      "text/plain": [
       "array([  19,  341,   52,  194,   30,   54, 7992,   55,  209,  603, 7887,\n",
       "          3,   36,  114,  164,  479,   85,    1, 1682,  782,   30,    2,\n",
       "        380,  326,    3,    1,   81,  132,  562,    9,   10])"
      ]
     },
     "execution_count": 37,
     "metadata": {},
     "output_type": "execute_result"
    }
   ],
   "source": [
    "np.array(x_train_tokens[800]) #800.yorumun tokenlerine bakıyoruz. Burada token sayısının 59'dan az olduğunu görüyoruz"
   ]
  },
  {
   "cell_type": "code",
   "execution_count": 38,
   "id": "787bad74-747a-4885-a2d4-ec06318189e3",
   "metadata": {},
   "outputs": [
    {
     "data": {
      "text/plain": [
       "array([   0,    0,    0,    0,    0,    0,    0,    0,    0,    0,    0,\n",
       "          0,    0,    0,    0,    0,    0,    0,    0,    0,    0,    0,\n",
       "          0,    0,    0,    0,    0,    0,   19,  341,   52,  194,   30,\n",
       "         54, 7992,   55,  209,  603, 7887,    3,   36,  114,  164,  479,\n",
       "         85,    1, 1682,  782,   30,    2,  380,  326,    3,    1,   81,\n",
       "        132,  562,    9,   10])"
      ]
     },
     "execution_count": 38,
     "metadata": {},
     "output_type": "execute_result"
    }
   ],
   "source": [
    "x_train_pad[800] #800.yorumun 59'a tamamlanıp tamamlanmadığını kontrol ediyoruz. Başına sıfır eklenerek 59'a tamamlanmış"
   ]
  },
  {
   "cell_type": "code",
   "execution_count": 39,
   "id": "3c52041e-5ce3-43a3-a48e-d5efc398726c",
   "metadata": {},
   "outputs": [],
   "source": [
    "#Tokenleri verip stringi görebilmemizi sağlaması için bir fonksiyon yazıcam böylece bu fonksiyonu çağırdığımızda elimizdeki \n",
    "#tokenleri yoruma çevirmiş olacak."
   ]
  },
  {
   "cell_type": "code",
   "execution_count": 40,
   "id": "24d1bb51-0cd3-45ca-a0d4-539404eebe50",
   "metadata": {},
   "outputs": [],
   "source": [
    "idx = tokenizer.word_index                        #sözlüğü tersine çevirme\n",
    "inverse_map = dict(zip(idx.values(), idx.keys())) #kelimeler = values, sayılar = key, "
   ]
  },
  {
   "cell_type": "code",
   "execution_count": 41,
   "id": "ba603abd-17e6-4aaf-b3a8-9ffd66e9d203",
   "metadata": {},
   "outputs": [],
   "source": [
    "def tokens_to_string(tokens):\n",
    "    words = [inverse_map[token] for token in tokens if token!=0]\n",
    "    text = ' '.join(words)\n",
    "    return text"
   ]
  },
  {
   "cell_type": "code",
   "execution_count": 42,
   "id": "a82089e7-ea38-46bd-8fd7-a867189d71e0",
   "metadata": {},
   "outputs": [
    {
     "data": {
      "text/plain": [
       "'ürünü alalı 3 hafta kadar oldu. aralıksız kullanıyorum bilgisyarım sürekli açık durur ve ben günde yaklaşık 12 saat başındayım mousesu çok kullanırım. şimdiye kadar bir problem yaşamadım ve çok memnunum almak isteyenlere tavsiye ederim.'"
      ]
     },
     "execution_count": 42,
     "metadata": {},
     "output_type": "execute_result"
    }
   ],
   "source": [
    "#fonksiyonu test etme \n",
    "x_train[800] #800.yorum tokenleştirmeden önceki hali"
   ]
  },
  {
   "cell_type": "code",
   "execution_count": 43,
   "id": "05fe1ab2-e729-4605-bcbf-82aae43ed0a2",
   "metadata": {},
   "outputs": [
    {
     "data": {
      "text/plain": [
       "'ürünü alalı 3 hafta kadar oldu aralıksız kullanıyorum sürekli açık durur ve ben günde yaklaşık 12 saat çok kullanırım şimdiye kadar bir problem yaşamadım ve çok memnunum almak isteyenlere tavsiye ederim'"
      ]
     },
     "execution_count": 43,
     "metadata": {},
     "output_type": "execute_result"
    }
   ],
   "source": [
    "tokens_to_string(x_train_tokens[800]) #burada tokenleştrime yapılmış yani her bir kelimeye integer değer atandıktan sonra \n",
    "                                      #tekrardan string haline gelmiş hali"
   ]
  },
  {
   "cell_type": "code",
   "execution_count": 44,
   "id": "ddc88e16-6499-4aee-92c1-79f87349c27d",
   "metadata": {},
   "outputs": [],
   "source": [
    "# En sık kullanılan kelimeleri 10000 ile sınırlandırmıştır bazı kelimelerin çıkarılmış olması bu 10000 kelimeden biri\n",
    "# olmamasından kaynaklı."
   ]
  },
  {
   "cell_type": "code",
   "execution_count": 45,
   "id": "900a7ce0-82b4-46d6-aaf7-00e986fb820c",
   "metadata": {},
   "outputs": [
    {
     "name": "stdout",
     "output_type": "stream",
     "text": [
      "WARNING:tensorflow:From C:\\Users\\sevin\\anaconda3\\Lib\\site-packages\\keras\\src\\backend.py:873: The name tf.get_default_graph is deprecated. Please use tf.compat.v1.get_default_graph instead.\n",
      "\n"
     ]
    }
   ],
   "source": [
    "model = Sequential() #Ardışık bir model oluşturduk."
   ]
  },
  {
   "cell_type": "code",
   "execution_count": 46,
   "id": "1de42506-50d0-4264-bc81-5d3911ce16cb",
   "metadata": {},
   "outputs": [],
   "source": [
    "embedding_size = 50 #embedding matrisinin büyüklüğünü belirleme"
   ]
  },
  {
   "cell_type": "code",
   "execution_count": 47,
   "id": "817fc6d2-77c6-42dd-8295-d38c24d9758e",
   "metadata": {},
   "outputs": [],
   "source": [
    "#Embedding layers\n",
    "model.add(Embedding(input_dim=num_words,        #Matrisimiz kelime sayısı ve Embedding sayısı büyüklüğünde olacaktır. ilk önce kelime sayımızı atadık.\n",
    "                    output_dim=embedding_size,  #Kelime vektörlerinin uzunluğunu atadık. (10000 x 50 uzunluğunda matris)\n",
    "                    input_length=max_tokens,    #Gelen inputun boyutu\n",
    "                    name='embedding_layer'))    #bu matristeki weightleri çağırmak için isim atadık."
   ]
  },
  {
   "cell_type": "code",
   "execution_count": 48,
   "id": "17678070-5704-4b6c-8124-4a9d13a25685",
   "metadata": {},
   "outputs": [],
   "source": [
    "# 3 katlı Yinelenen Sinir Ağı GRU layer\n",
    "model.add(GRU(units=16, return_sequences=True)) #unit:GRU layerın nöron sayısı, 16 tane output verir, return olarak outputun tamamı döner\n",
    "model.add(GRU(units=8, return_sequences=True))  #2. GRU layer\n",
    "model.add(GRU(units=4))                         #3. GRU layer son layer lduğu içinde return sequences:false olmalı\n",
    "model.add(Dense(1, activation='sigmoid'))       #3 katlı GRU da oluşan son output tek bir nörondur."
   ]
  },
  {
   "cell_type": "code",
   "execution_count": 49,
   "id": "cc070599-8815-4d84-bac9-1ba9db5aded7",
   "metadata": {},
   "outputs": [],
   "source": [
    "#Modelin eğitim optimizasyonu\n",
    "optimizer = Adam(learning_rate=0.001) "
   ]
  },
  {
   "cell_type": "code",
   "execution_count": 50,
   "id": "bedd9877-0019-477b-9ec8-62ad3fd4ddcf",
   "metadata": {},
   "outputs": [],
   "source": [
    "optimizer = 'adam'"
   ]
  },
  {
   "cell_type": "code",
   "execution_count": 51,
   "id": "53c1e765-4ec9-442b-8f37-320bb0467d2c",
   "metadata": {},
   "outputs": [
    {
     "name": "stdout",
     "output_type": "stream",
     "text": [
      "WARNING:tensorflow:From C:\\Users\\sevin\\anaconda3\\Lib\\site-packages\\keras\\src\\optimizers\\__init__.py:309: The name tf.train.Optimizer is deprecated. Please use tf.compat.v1.train.Optimizer instead.\n",
      "\n"
     ]
    }
   ],
   "source": [
    "#Model belirleme\n",
    "model.compile(loss='binary_crossentropy',  #2 sınıf olduğu için binary crossentropy\n",
    "              optimizer='adam',            \n",
    "              metrics=['accuracy'])        #Modelin başarı oranı"
   ]
  },
  {
   "cell_type": "code",
   "execution_count": 52,
   "id": "804016a9-88c8-40dd-b65e-ac2bcde3e543",
   "metadata": {},
   "outputs": [
    {
     "name": "stdout",
     "output_type": "stream",
     "text": [
      "Model: \"sequential\"\n",
      "_________________________________________________________________\n",
      " Layer (type)                Output Shape              Param #   \n",
      "=================================================================\n",
      " embedding_layer (Embedding  (None, 59, 50)            500000    \n",
      " )                                                               \n",
      "                                                                 \n",
      " gru (GRU)                   (None, 59, 16)            3264      \n",
      "                                                                 \n",
      " gru_1 (GRU)                 (None, 59, 8)             624       \n",
      "                                                                 \n",
      " gru_2 (GRU)                 (None, 4)                 168       \n",
      "                                                                 \n",
      " dense (Dense)               (None, 1)                 5         \n",
      "                                                                 \n",
      "=================================================================\n",
      "Total params: 504061 (1.92 MB)\n",
      "Trainable params: 504061 (1.92 MB)\n",
      "Non-trainable params: 0 (0.00 Byte)\n",
      "_________________________________________________________________\n"
     ]
    }
   ],
   "source": [
    "model.summary()  #Modelin özeti"
   ]
  },
  {
   "cell_type": "code",
   "execution_count": 53,
   "id": "7f66304b-1fca-4712-bed8-9a24b5b85b9b",
   "metadata": {},
   "outputs": [],
   "source": [
    "#NumPy dizisini TensorFlow Tensor objesine dönüştürme.\n",
    "x = tf.convert_to_tensor(x_train_pad) \n",
    "y = tf.convert_to_tensor(y_train)"
   ]
  },
  {
   "cell_type": "code",
   "execution_count": 54,
   "id": "68e608f6-a2ce-4caf-9571-cd6784f04e2c",
   "metadata": {},
   "outputs": [
    {
     "name": "stdout",
     "output_type": "stream",
     "text": [
      "Epoch 1/5\n",
      "WARNING:tensorflow:From C:\\Users\\sevin\\anaconda3\\Lib\\site-packages\\keras\\src\\utils\\tf_utils.py:492: The name tf.ragged.RaggedTensorValue is deprecated. Please use tf.compat.v1.ragged.RaggedTensorValue instead.\n",
      "\n",
      "WARNING:tensorflow:From C:\\Users\\sevin\\anaconda3\\Lib\\site-packages\\keras\\src\\engine\\base_layer_utils.py:384: The name tf.executing_eagerly_outside_functions is deprecated. Please use tf.compat.v1.executing_eagerly_outside_functions instead.\n",
      "\n",
      "761/761 [==============================] - 73s 84ms/step - loss: 0.1681 - accuracy: 0.9545\n",
      "Epoch 2/5\n",
      "761/761 [==============================] - 68s 89ms/step - loss: 0.0890 - accuracy: 0.9712\n",
      "Epoch 3/5\n",
      "761/761 [==============================] - 71s 93ms/step - loss: 0.0703 - accuracy: 0.9780\n",
      "Epoch 4/5\n",
      "761/761 [==============================] - 70s 92ms/step - loss: 0.0566 - accuracy: 0.9831\n",
      "Epoch 5/5\n",
      "761/761 [==============================] - 72s 94ms/step - loss: 0.0453 - accuracy: 0.9874\n"
     ]
    },
    {
     "data": {
      "text/plain": [
       "<keras.src.callbacks.History at 0x29d6470a110>"
      ]
     },
     "execution_count": 54,
     "metadata": {},
     "output_type": "execute_result"
    }
   ],
   "source": [
    "#Datasetindeki yorumları ve etikerleri vererek eğitim yapmak\n",
    "#Bu fonksiyonu kullanabilmek için yukarıdaki satırda Tensor objesine çevirdik. \n",
    "#x:Eğitim setindeki yorumlar\n",
    "#y:Eğitim setindeki yorumların etiketleri\n",
    "model.fit(x,y, epochs=5, batch_size=256) #epoch:Eğitim sayısı"
   ]
  },
  {
   "cell_type": "code",
   "execution_count": 55,
   "id": "fa9f972e-15b8-44bf-b0c2-e0aa6e317966",
   "metadata": {},
   "outputs": [],
   "source": [
    "#Verileri numpy array dizisine dönüştürme\n",
    "x_test_pad = np.array(x_test_pad) \n",
    "y_test = np.array(y_test)"
   ]
  },
  {
   "cell_type": "code",
   "execution_count": 56,
   "id": "f777d23e-a07f-466f-9ccb-fd9528000211",
   "metadata": {},
   "outputs": [
    {
     "name": "stdout",
     "output_type": "stream",
     "text": [
      "1522/1522 [==============================] - 29s 18ms/step - loss: 0.1510 - accuracy: 0.9557\n"
     ]
    }
   ],
   "source": [
    "#Modeli test etme\n",
    "result = model.evaluate(x_test_pad, y_test) #Test setimizin yorumları, etiketleri"
   ]
  },
  {
   "cell_type": "code",
   "execution_count": 57,
   "id": "5f65c2d6-28ea-4587-8ed9-aecd6d8293c0",
   "metadata": {},
   "outputs": [
    {
     "data": {
      "text/plain": [
       "0.9556878805160522"
      ]
     },
     "execution_count": 57,
     "metadata": {},
     "output_type": "execute_result"
    }
   ],
   "source": [
    "result[1] #Test setimizin sonucu "
   ]
  },
  {
   "cell_type": "code",
   "execution_count": 58,
   "id": "3804da33-2b91-497c-b5d7-00c78bc02051",
   "metadata": {},
   "outputs": [],
   "source": [
    "#Bu sonuca göre modelimmiz test setinin %95 ini doğru bildiğini görmüş oluyoruz."
   ]
  },
  {
   "cell_type": "code",
   "execution_count": 59,
   "id": "ba9c90c4-c8e2-4c0d-9a35-dc0c11df4999",
   "metadata": {},
   "outputs": [
    {
     "name": "stdout",
     "output_type": "stream",
     "text": [
      "313/313 [==============================] - 8s 18ms/step\n"
     ]
    },
    {
     "data": {
      "text/plain": [
       "array([[0.966403  ],\n",
       "       [0.996515  ],\n",
       "       [0.99729437],\n",
       "       ...,\n",
       "       [0.99726206],\n",
       "       [0.99690646],\n",
       "       [0.9973081 ]], dtype=float32)"
      ]
     },
     "execution_count": 59,
     "metadata": {},
     "output_type": "execute_result"
    }
   ],
   "source": [
    "x_model_train = model.predict(x=x_train_pad[0:10000]) # Modelin eğitim setindeki yorumlar hakkındaki tahmini \n",
    "x_model_train"
   ]
  },
  {
   "cell_type": "code",
   "execution_count": 60,
   "id": "0ee7cec7-f8cf-41be-a9dd-0d1037d08b7a",
   "metadata": {},
   "outputs": [
    {
     "name": "stdout",
     "output_type": "stream",
     "text": [
      "****************Sonucu 0 olan değerlerin indexleri:**************** \n",
      " [  20  194  225  527  528  785  891  905  914  999 1028 1029 1032 1034\n",
      " 1476 1510 1516 1518 1527 1533 1680 1791 1995 2062 2065 2066 2069 2072\n",
      " 2073 2079 2087 2101 2104 2139 2206 2213 2221 2223 2228 2232 2235 2248\n",
      " 2261 2269 2271 2282 2291 2292 2293 2305 2313 2316 2321 2325 2331 2332\n",
      " 2333 2343 2348 2349 2351 2355 2358 2359 2361 2371 2378 2379 2382 2383\n",
      " 2411 2413 2433 2476 2540 2653 2655 2665 2669 2712 2718 2736 2819 2866\n",
      " 2874 2877 2881 2948 2971 3000 3385 3425 3481 3497 3745 3756 3761 3762\n",
      " 3778 3800 3856 3915 3964 3981 3992 4001 4003 4004 4009 4019 4123 4144\n",
      " 4166 4203 4207 4208 4237 4410 4419 4435 4439 4442 4444 4445 4452 4484\n",
      " 4493 4494 4502 4510 4520 4533 4538 4547 4583 4613 4614 4618 4629 4645\n",
      " 4926 4954 4983 5001 5275 5398 5417 5423 5426 5433 5440 5472 5492 5497\n",
      " 5530 5532 5540 5546 5549 5555 5557 5591 5606 5647 5651 5656 5676 5677\n",
      " 5684 5686 5691 5704 5719 5726 5736 5763 5846 5851 5858 5922 5924 5925\n",
      " 5934 5944 5946 5950 5953 5954 5961 5965 5976 6017 6023 6031 6035 6046\n",
      " 6047 6053 6107 6115 6135 6140 6144 6199 6399 6414 6431 6446 6472 6491\n",
      " 6492 6495 6497 6513 6519 6520 6535 6537 6551 6553 6575 6591 6604 6606\n",
      " 6609 6610 6611 6615 6620 6622 6625 6627 6630 6638 6644 6651 6656 6676\n",
      " 6678 6686 6690 6704 6706 6707 6716 6727 6730 6731 6741 6769 6779 6781\n",
      " 6812 6815 6840 6845 6851 6855 6868 6877 6881 6884 6885 6917 6920 6923\n",
      " 6926 6961 6962 6970 6981 6987 6991 7002 7016 7017 7019 7020 7023 7031\n",
      " 7221 7268 7279 7280 7301 7302 7304 7310 7312 7314 7330 7364 7402 7446\n",
      " 7520 7521 7649 7694 7711 7752 7754 7807 7855 7857 7859 7923 7926 7935\n",
      " 7961 8150 8204 8232 8252 8325 8334 8338 8346 8417 8422 8540 8602 8755\n",
      " 8772 8774 8900 8904 8913 8944 8964 8967 9016 9023 9032 9039 9047 9087\n",
      " 9088 9097 9103 9136 9299 9303 9353 9374 9392 9402 9413 9421 9429 9445\n",
      " 9457 9464 9592 9597 9608 9623 9658 9666 9674 9749 9775 9781 9783 9785\n",
      " 9804 9816 9833 9841 9860 9862 9884 9896 9959 9969]\n",
      "****************Sonucu 0 olan değerlerin değerleri:**************** \n",
      " [[0.11413106]\n",
      " [0.41895464]\n",
      " [0.01334266]\n",
      " [0.12666638]\n",
      " [0.11488096]\n",
      " [0.02271791]\n",
      " [0.04552092]\n",
      " [0.17536724]\n",
      " [0.41318646]\n",
      " [0.15475345]\n",
      " [0.12126993]\n",
      " [0.02618013]\n",
      " [0.12349284]\n",
      " [0.10408606]\n",
      " [0.03759475]\n",
      " [0.02409313]\n",
      " [0.01636554]\n",
      " [0.15109342]\n",
      " [0.29546592]\n",
      " [0.12763932]\n",
      " [0.26618102]\n",
      " [0.36217874]\n",
      " [0.03546594]\n",
      " [0.02698361]\n",
      " [0.01306928]\n",
      " [0.01897081]\n",
      " [0.01468229]\n",
      " [0.03389998]\n",
      " [0.00680216]\n",
      " [0.10090047]\n",
      " [0.07910028]\n",
      " [0.02370897]\n",
      " [0.016608  ]\n",
      " [0.35588282]\n",
      " [0.04872395]\n",
      " [0.0270831 ]\n",
      " [0.03259695]\n",
      " [0.00734379]\n",
      " [0.02199324]\n",
      " [0.04423305]\n",
      " [0.05081014]\n",
      " [0.05351718]\n",
      " [0.07521127]\n",
      " [0.08097778]\n",
      " [0.05819712]\n",
      " [0.00980052]\n",
      " [0.03697103]\n",
      " [0.12328301]\n",
      " [0.02056496]\n",
      " [0.00963044]\n",
      " [0.44940615]\n",
      " [0.01379527]\n",
      " [0.02406905]\n",
      " [0.01702488]\n",
      " [0.00697077]\n",
      " [0.04893145]\n",
      " [0.01208013]\n",
      " [0.05210378]\n",
      " [0.14671493]\n",
      " [0.21581936]\n",
      " [0.01425033]\n",
      " [0.11514939]\n",
      " [0.15176699]\n",
      " [0.01019868]\n",
      " [0.04283025]\n",
      " [0.0342304 ]\n",
      " [0.09728388]\n",
      " [0.00795756]\n",
      " [0.42374784]\n",
      " [0.02906943]\n",
      " [0.10280898]\n",
      " [0.0264036 ]\n",
      " [0.01001078]\n",
      " [0.04217391]\n",
      " [0.00844571]\n",
      " [0.03113826]\n",
      " [0.19331966]\n",
      " [0.1402614 ]\n",
      " [0.15005344]\n",
      " [0.02839459]\n",
      " [0.01922864]\n",
      " [0.1843771 ]\n",
      " [0.23087452]\n",
      " [0.02486215]\n",
      " [0.00784304]\n",
      " [0.01794923]\n",
      " [0.02175704]\n",
      " [0.12083536]\n",
      " [0.08958801]\n",
      " [0.13794822]\n",
      " [0.42948824]\n",
      " [0.02474702]\n",
      " [0.13343304]\n",
      " [0.06940349]\n",
      " [0.01604831]\n",
      " [0.04033998]\n",
      " [0.02302185]\n",
      " [0.00921867]\n",
      " [0.0384054 ]\n",
      " [0.2078347 ]\n",
      " [0.0512207 ]\n",
      " [0.0319128 ]\n",
      " [0.01947089]\n",
      " [0.17875217]\n",
      " [0.02051418]\n",
      " [0.00882928]\n",
      " [0.08000451]\n",
      " [0.01192593]\n",
      " [0.0333829 ]\n",
      " [0.08231369]\n",
      " [0.02553958]\n",
      " [0.03587407]\n",
      " [0.01566089]\n",
      " [0.02077361]\n",
      " [0.2718273 ]\n",
      " [0.03734176]\n",
      " [0.45507526]\n",
      " [0.31477657]\n",
      " [0.30175713]\n",
      " [0.3810937 ]\n",
      " [0.01956853]\n",
      " [0.10821093]\n",
      " [0.27407068]\n",
      " [0.03119878]\n",
      " [0.02477683]\n",
      " [0.0232607 ]\n",
      " [0.18064922]\n",
      " [0.02450366]\n",
      " [0.054379  ]\n",
      " [0.02479374]\n",
      " [0.03354295]\n",
      " [0.00980257]\n",
      " [0.03943475]\n",
      " [0.02069599]\n",
      " [0.04149006]\n",
      " [0.08533692]\n",
      " [0.01968806]\n",
      " [0.02941675]\n",
      " [0.02392789]\n",
      " [0.16534807]\n",
      " [0.3848616 ]\n",
      " [0.01339744]\n",
      " [0.25080553]\n",
      " [0.0597888 ]\n",
      " [0.01442566]\n",
      " [0.15450625]\n",
      " [0.42203075]\n",
      " [0.08133349]\n",
      " [0.06168325]\n",
      " [0.01066954]\n",
      " [0.2287757 ]\n",
      " [0.01312032]\n",
      " [0.15863946]\n",
      " [0.22074907]\n",
      " [0.01336664]\n",
      " [0.10833302]\n",
      " [0.23261137]\n",
      " [0.00926462]\n",
      " [0.04959891]\n",
      " [0.21010701]\n",
      " [0.00854644]\n",
      " [0.03117494]\n",
      " [0.02307825]\n",
      " [0.03818326]\n",
      " [0.12470708]\n",
      " [0.07016061]\n",
      " [0.09485945]\n",
      " [0.30695435]\n",
      " [0.21165647]\n",
      " [0.00967177]\n",
      " [0.05259077]\n",
      " [0.02523084]\n",
      " [0.10736052]\n",
      " [0.06969664]\n",
      " [0.01692899]\n",
      " [0.04791581]\n",
      " [0.05744606]\n",
      " [0.12676041]\n",
      " [0.01539287]\n",
      " [0.08754966]\n",
      " [0.06293818]\n",
      " [0.02754323]\n",
      " [0.0110272 ]\n",
      " [0.04848803]\n",
      " [0.00572058]\n",
      " [0.16872923]\n",
      " [0.00689849]\n",
      " [0.02900237]\n",
      " [0.0421123 ]\n",
      " [0.0452712 ]\n",
      " [0.0575191 ]\n",
      " [0.01749133]\n",
      " [0.2019099 ]\n",
      " [0.07921118]\n",
      " [0.02292116]\n",
      " [0.4988422 ]\n",
      " [0.21632062]\n",
      " [0.3784919 ]\n",
      " [0.12096456]\n",
      " [0.07956647]\n",
      " [0.01030985]\n",
      " [0.06930806]\n",
      " [0.47578162]\n",
      " [0.01217242]\n",
      " [0.05183866]\n",
      " [0.05794353]\n",
      " [0.10229717]\n",
      " [0.02448162]\n",
      " [0.16840097]\n",
      " [0.04216908]\n",
      " [0.26393107]\n",
      " [0.22253427]\n",
      " [0.02187967]\n",
      " [0.02822235]\n",
      " [0.26455402]\n",
      " [0.0105012 ]\n",
      " [0.09337002]\n",
      " [0.00977693]\n",
      " [0.00978104]\n",
      " [0.16694275]\n",
      " [0.02542755]\n",
      " [0.0424724 ]\n",
      " [0.47904554]\n",
      " [0.05130795]\n",
      " [0.02412191]\n",
      " [0.01135163]\n",
      " [0.00800844]\n",
      " [0.02831296]\n",
      " [0.39734963]\n",
      " [0.2840709 ]\n",
      " [0.07596727]\n",
      " [0.01120761]\n",
      " [0.05919656]\n",
      " [0.02734028]\n",
      " [0.0795638 ]\n",
      " [0.07605824]\n",
      " [0.01868313]\n",
      " [0.01860949]\n",
      " [0.00830561]\n",
      " [0.03003533]\n",
      " [0.08771662]\n",
      " [0.02665182]\n",
      " [0.11038382]\n",
      " [0.01455932]\n",
      " [0.00961754]\n",
      " [0.15274046]\n",
      " [0.22673793]\n",
      " [0.22428155]\n",
      " [0.08320194]\n",
      " [0.00923189]\n",
      " [0.00814732]\n",
      " [0.01919439]\n",
      " [0.4627084 ]\n",
      " [0.15328655]\n",
      " [0.05703011]\n",
      " [0.02029232]\n",
      " [0.02333411]\n",
      " [0.00852756]\n",
      " [0.04089684]\n",
      " [0.00773858]\n",
      " [0.05995291]\n",
      " [0.03363846]\n",
      " [0.34179398]\n",
      " [0.01352446]\n",
      " [0.2543649 ]\n",
      " [0.0108502 ]\n",
      " [0.024562  ]\n",
      " [0.03298598]\n",
      " [0.02077864]\n",
      " [0.08838793]\n",
      " [0.04299372]\n",
      " [0.04288025]\n",
      " [0.03327262]\n",
      " [0.08819773]\n",
      " [0.04852177]\n",
      " [0.01314172]\n",
      " [0.02996265]\n",
      " [0.01773894]\n",
      " [0.10903207]\n",
      " [0.13475515]\n",
      " [0.04301137]\n",
      " [0.08771955]\n",
      " [0.10125127]\n",
      " [0.04669142]\n",
      " [0.02024388]\n",
      " [0.03667295]\n",
      " [0.11663335]\n",
      " [0.0671085 ]\n",
      " [0.01408806]\n",
      " [0.02660722]\n",
      " [0.05138552]\n",
      " [0.01159436]\n",
      " [0.0289755 ]\n",
      " [0.28993794]\n",
      " [0.11739102]\n",
      " [0.33562684]\n",
      " [0.06549279]\n",
      " [0.01285313]\n",
      " [0.02477182]\n",
      " [0.01047456]\n",
      " [0.0362183 ]\n",
      " [0.02330584]\n",
      " [0.1306921 ]\n",
      " [0.26753148]\n",
      " [0.01983458]\n",
      " [0.15609136]\n",
      " [0.1239292 ]\n",
      " [0.08476463]\n",
      " [0.20663948]\n",
      " [0.06370377]\n",
      " [0.11172958]\n",
      " [0.29948962]\n",
      " [0.05176933]\n",
      " [0.03040456]\n",
      " [0.01300992]\n",
      " [0.01434413]\n",
      " [0.00869971]\n",
      " [0.01516415]\n",
      " [0.03465255]\n",
      " [0.00603611]\n",
      " [0.1396993 ]\n",
      " [0.01899601]\n",
      " [0.33399943]\n",
      " [0.28181294]\n",
      " [0.13721268]\n",
      " [0.03397249]\n",
      " [0.00976975]\n",
      " [0.01722126]\n",
      " [0.15918377]\n",
      " [0.16840097]\n",
      " [0.43631497]\n",
      " [0.04331704]\n",
      " [0.0173115 ]\n",
      " [0.19862194]\n",
      " [0.3078539 ]\n",
      " [0.42010954]\n",
      " [0.08013675]\n",
      " [0.20275548]\n",
      " [0.01225487]\n",
      " [0.48959887]\n",
      " [0.20822395]\n",
      " [0.49884233]\n",
      " [0.01854396]\n",
      " [0.01424769]\n",
      " [0.02543465]\n",
      " [0.23328151]\n",
      " [0.0739514 ]\n",
      " [0.14212209]\n",
      " [0.09277873]\n",
      " [0.03583252]\n",
      " [0.07575757]\n",
      " [0.06637099]\n",
      " [0.09514384]\n",
      " [0.1252073 ]\n",
      " [0.05798428]\n",
      " [0.0162768 ]\n",
      " [0.05621128]\n",
      " [0.06047089]\n",
      " [0.00895282]\n",
      " [0.09718652]\n",
      " [0.01469464]\n",
      " [0.05668675]\n",
      " [0.14814816]\n",
      " [0.03383329]\n",
      " [0.18547794]\n",
      " [0.3200276 ]\n",
      " [0.02600668]\n",
      " [0.16939133]\n",
      " [0.0169255 ]\n",
      " [0.16383983]\n",
      " [0.01909394]\n",
      " [0.04906023]\n",
      " [0.03709371]\n",
      " [0.05552185]]\n"
     ]
    }
   ],
   "source": [
    "x_train_negative = np.array([1.0 if n>0.5 else 0.0 for n in x_model_train]) # Modelin eğitim setinde yapmış olduğu tahminleri 0 ve 1 olarak ikiye ayırdık\n",
    "zero_indices = np.where(x_train_negative == 0.0)[0]                         # Modelin sadece olumsuz olarak tahmin ettiği yorumların indexlerini ve \n",
    "zero_values = x_model_train[zero_indices]                                   # modelin tahmin değerini gösterir. \n",
    "print(\"****************Sonucu 0 olan değerlerin indexleri:****************\",'\\n', zero_indices)\n",
    "print(\"****************Sonucu 0 olan değerlerin değerleri:****************\",'\\n', zero_values)"
   ]
  },
  {
   "cell_type": "code",
   "execution_count": 61,
   "id": "4af18ce2-f1f1-419e-9b3e-111cda36243f",
   "metadata": {},
   "outputs": [
    {
     "data": {
      "text/plain": [
       "array([0.02056496], dtype=float32)"
      ]
     },
     "execution_count": 61,
     "metadata": {},
     "output_type": "execute_result"
    }
   ],
   "source": [
    "x_model_train[2293]  # Yukarıdaki olumsuz yorumlardan birinin indexini yazarak modelin tahmin değerini verir."
   ]
  },
  {
   "cell_type": "code",
   "execution_count": 62,
   "id": "62666f5c-48c3-47db-abcb-6a7c989d78bb",
   "metadata": {},
   "outputs": [
    {
     "data": {
      "text/plain": [
       "'Dış görünüş ve tutuş fena değil. Tuşlara macro ayarlanmıyor. Birde mouse 0.5cm kaldırdığınızda bile tepki veriyor. Bu yüzden hiç beğenmedim zemine temas etmediği halde mouse iconu hareket ediyor. Online oyunculara hitap etmeyen vasat bir ürün.'"
      ]
     },
     "execution_count": 62,
     "metadata": {},
     "output_type": "execute_result"
    }
   ],
   "source": [
    "x_train[2293]  # Bu olumsuz yorumun string hali"
   ]
  },
  {
   "cell_type": "code",
   "execution_count": 63,
   "id": "0168e392-82fc-4382-9a7a-ae96e4c7e371",
   "metadata": {},
   "outputs": [
    {
     "data": {
      "text/plain": [
       "array([0.99080867], dtype=float32)"
      ]
     },
     "execution_count": 63,
     "metadata": {},
     "output_type": "execute_result"
    }
   ],
   "source": [
    "x_model_train[49] # Yukarıdaki yorumlardan hariç girdiğimiz bir indexin sonucu 1'e yakın olduğu için modelimiz olumlu bir yorum oalrak tahmin etmiş."
   ]
  },
  {
   "cell_type": "code",
   "execution_count": 64,
   "id": "28987faa-1578-41e2-97d6-90d9fe3cc6d1",
   "metadata": {},
   "outputs": [
    {
     "data": {
      "text/plain": [
       "'Ürün çok kaliteli vereceğiniz paraya değecektir.'"
      ]
     },
     "execution_count": 64,
     "metadata": {},
     "output_type": "execute_result"
    }
   ],
   "source": [
    "x_train[49]  # Bu yorumun string halini görerek yorumun olumlu mu olumsuz mu olduğunu kendimizde değerlendirebiliriz"
   ]
  },
  {
   "cell_type": "code",
   "execution_count": 65,
   "id": "c6b91a5f-5e2d-4b8e-8ce7-908f167e8612",
   "metadata": {},
   "outputs": [],
   "source": [
    "# Modelin tahmin değeri 1'e yakınsa olumlu bir yorum, 0'a yakınsa olumsuz bir yorum şeklinde eğitilmiştir.\n",
    "# Buradaki sonuclaraa bakılarak modelimiz olumlu ve olumsuz şeklinde iyi ayırt edebilmeyi başarmıştır."
   ]
  },
  {
   "cell_type": "code",
   "execution_count": 66,
   "id": "9a43c007-4863-43dc-834e-71f0dfca1a63",
   "metadata": {},
   "outputs": [
    {
     "name": "stdout",
     "output_type": "stream",
     "text": [
      "313/313 [==============================] - 5s 17ms/step\n"
     ]
    },
    {
     "data": {
      "text/plain": [
       "array([[0.9967153 ],\n",
       "       [0.9973649 ],\n",
       "       [0.9964724 ],\n",
       "       ...,\n",
       "       [0.9972554 ],\n",
       "       [0.99696034],\n",
       "       [0.9679889 ]], dtype=float32)"
      ]
     },
     "execution_count": 66,
     "metadata": {},
     "output_type": "execute_result"
    }
   ],
   "source": [
    "x_model_test = model.predict(x=x_test_pad[0:10000]) # Modelin test setindeki yorumlar hakkındaki tahmini \n",
    "x_model_test"
   ]
  },
  {
   "cell_type": "code",
   "execution_count": 67,
   "id": "29bc7e0b-fca5-45d0-9e1c-9f884b65e035",
   "metadata": {},
   "outputs": [
    {
     "name": "stdout",
     "output_type": "stream",
     "text": [
      "****************Sonucu 0 olan değerlerin indexleri:**************** \n",
      " [  34   57   67   89   93  128  144  148  222  225  236  251  253  259\n",
      "  277  284  290  293  308  319  339  353  429  434  440  441  445  465\n",
      "  468  473  475  478  499  517  527  569  601  611  616  638  640  651\n",
      "  662  668  699  717  733  740  762  794  800  852  859  876  940  944\n",
      "  949  951  982 1002 1010 1012 1013 1018 1025 1036 1038 1040 1041 1050\n",
      " 1053 1058 1061 1064 1066 1090 1098 1101 1114 1115 1122 1149 1153 1163\n",
      " 1180 1197 1214 1218 1228 1259 1261 1269 1281 1296 1308 1315 1316 1330\n",
      " 1352 1354 1383 1408 1439 1459 1462 1464 1468 1510 1539 1554 1559 1582\n",
      " 1584 1600 1668 1698 1711 1733 1749 1764 1807 1873 1874 1877 1882 1883\n",
      " 1888 1906 1912 1917 1928 2052 2055 2059 2063 2083 2135 2180 2204 2303\n",
      " 2329 2453 2488 2516 2527 2534 2549 2552 2560 2569 2574 2596 2600 2605\n",
      " 2606 2619 2646 2649 2657 2670 2671 2679 2711 2721 2726 2759 2847 2933\n",
      " 2950 2975 2985 2998 3003 3046 3082 3189 3210 3238 3277 3293 3295 3330\n",
      " 3427 3483 3547 3548 3563 3566 3571 3591 3595 3600 3602 3626 3697 3707\n",
      " 3724 3815 3819 3820 3824 3829 3838 3842 3847 3852 3856 3862 3863 3871\n",
      " 3876 3877 3882 3894 3931 3943 3956 3966 3979 3983 4003 4010 4030 4041\n",
      " 4059 4062 4095 4118 4120 4151 4362 4449 4457 4477 4495 4513 4514 4522\n",
      " 4524 4555 4579 4581 4622 4629 4643 4650 4656 4659 4665 4685 4688 4714\n",
      " 4750 4784 4797 4803 4912 4964 4966 4979 4992 5001 5018 5022 5023 5040\n",
      " 5134 5148 5162 5174 5203 5216 5225 5286 5330 5345 5372 5373 5382 5389\n",
      " 5480 5498 5501 5502 5543 5591 5690 5715 5720 5748 5782 5809 5814 5826\n",
      " 5889 5914 5982 6047 6062 6072 6094 6095 6096 6126 6129 6148 6178 6198\n",
      " 6249 6277 6313 6332 6348 6365 6368 6390 6413 6418 6435 6457 6460 6465\n",
      " 6507 6514 6516 6522 6618 6667 6684 6722 6734 6735 6746 6750 6757 6760\n",
      " 6763 6769 6770 6817 6837 6855 6896 6913 6958 6999 7010 7026 7031 7032\n",
      " 7052 7071 7115 7150 7159 7180 7188 7235 7315 7351 7410 7430 7431 7432\n",
      " 7438 7591 7614 7619 7620 7643 7645 7651 7652 7653 7655 7692 7704 7706\n",
      " 7708 7716 7717 7720 7723 7724 7728 7734 7765 7778 7787 7872 7873 7874\n",
      " 7896 7985 7989 8052 8069 8074 8081 8082 8087 8113 8213 8221 8237 8248\n",
      " 8251 8256 8259 8260 8262 8264 8273 8275 8315 8339 8469 8488 8492 8496\n",
      " 8515 8516 8517 8520 8521 8522 8525 8530 8533 8534 8535 8536 8537 8538\n",
      " 8554 8555 8557 8566 8586 8592 8609 8610 8627 8636 8643 8670 8676 8755\n",
      " 8784 8789 8799 8816 8821 8822 8846 8850 8872 8896 8936 8949 8956 8963\n",
      " 8974 8975 9016 9054 9077 9131 9147 9150 9156 9302 9413 9415 9416 9417\n",
      " 9419 9450 9452 9454 9462 9474 9479 9524 9532 9543 9548 9553 9565 9574\n",
      " 9581 9596 9604 9605 9609 9610 9611 9612 9614 9616 9619 9621 9625 9626\n",
      " 9632 9635 9644 9652 9665 9667 9674 9675 9692 9706 9721 9725 9727 9730\n",
      " 9732 9733 9734 9735 9744 9746 9747 9748 9749 9751 9753 9755 9766 9769\n",
      " 9770 9772 9773 9774 9780 9783 9784 9894 9895 9937 9938]\n",
      "****************Sonucu 0 olan değerlerin değerleri:**************** \n",
      " [[0.09361395]\n",
      " [0.02852334]\n",
      " [0.3227693 ]\n",
      " [0.3867431 ]\n",
      " [0.09292587]\n",
      " [0.46202928]\n",
      " [0.27220377]\n",
      " [0.2561718 ]\n",
      " [0.43432307]\n",
      " [0.22182451]\n",
      " [0.03840112]\n",
      " [0.0190805 ]\n",
      " [0.00924136]\n",
      " [0.03479704]\n",
      " [0.02659311]\n",
      " [0.0077602 ]\n",
      " [0.01508761]\n",
      " [0.0920324 ]\n",
      " [0.10649981]\n",
      " [0.03868711]\n",
      " [0.01377454]\n",
      " [0.1992405 ]\n",
      " [0.01083012]\n",
      " [0.02121406]\n",
      " [0.323155  ]\n",
      " [0.38490954]\n",
      " [0.05373201]\n",
      " [0.12113699]\n",
      " [0.12090969]\n",
      " [0.01123677]\n",
      " [0.01767802]\n",
      " [0.00855686]\n",
      " [0.042273  ]\n",
      " [0.17984498]\n",
      " [0.39734963]\n",
      " [0.38072938]\n",
      " [0.44095978]\n",
      " [0.3620399 ]\n",
      " [0.01191826]\n",
      " [0.03620426]\n",
      " [0.03437626]\n",
      " [0.10073125]\n",
      " [0.01464927]\n",
      " [0.02552668]\n",
      " [0.00720131]\n",
      " [0.2865547 ]\n",
      " [0.00751245]\n",
      " [0.01484483]\n",
      " [0.03079961]\n",
      " [0.02065921]\n",
      " [0.2517074 ]\n",
      " [0.47699192]\n",
      " [0.03887003]\n",
      " [0.18087706]\n",
      " [0.03889925]\n",
      " [0.01394834]\n",
      " [0.00761086]\n",
      " [0.01506572]\n",
      " [0.4195284 ]\n",
      " [0.25073826]\n",
      " [0.2060035 ]\n",
      " [0.01603453]\n",
      " [0.01845656]\n",
      " [0.0668174 ]\n",
      " [0.05533676]\n",
      " [0.01263897]\n",
      " [0.17378902]\n",
      " [0.03708123]\n",
      " [0.49884233]\n",
      " [0.01114119]\n",
      " [0.01831155]\n",
      " [0.02437386]\n",
      " [0.42873818]\n",
      " [0.09295328]\n",
      " [0.01490626]\n",
      " [0.3550872 ]\n",
      " [0.27960697]\n",
      " [0.01006592]\n",
      " [0.05766936]\n",
      " [0.20307383]\n",
      " [0.00790968]\n",
      " [0.19273661]\n",
      " [0.45400944]\n",
      " [0.0199382 ]\n",
      " [0.12861317]\n",
      " [0.07695401]\n",
      " [0.01389495]\n",
      " [0.4331328 ]\n",
      " [0.02227272]\n",
      " [0.06495944]\n",
      " [0.24407542]\n",
      " [0.10531396]\n",
      " [0.03117219]\n",
      " [0.24248002]\n",
      " [0.3449571 ]\n",
      " [0.04747569]\n",
      " [0.1823136 ]\n",
      " [0.35907537]\n",
      " [0.02963092]\n",
      " [0.30986205]\n",
      " [0.01324597]\n",
      " [0.42491847]\n",
      " [0.1530781 ]\n",
      " [0.05461925]\n",
      " [0.06154216]\n",
      " [0.01436093]\n",
      " [0.05589128]\n",
      " [0.29717034]\n",
      " [0.0682564 ]\n",
      " [0.00804054]\n",
      " [0.37846765]\n",
      " [0.22497642]\n",
      " [0.35406724]\n",
      " [0.19211091]\n",
      " [0.01358611]\n",
      " [0.08488011]\n",
      " [0.02089576]\n",
      " [0.09123177]\n",
      " [0.03033817]\n",
      " [0.10352491]\n",
      " [0.275577  ]\n",
      " [0.12521444]\n",
      " [0.01250768]\n",
      " [0.12631641]\n",
      " [0.03186685]\n",
      " [0.09373763]\n",
      " [0.02533031]\n",
      " [0.08253574]\n",
      " [0.0204305 ]\n",
      " [0.03654964]\n",
      " [0.03129239]\n",
      " [0.45729753]\n",
      " [0.48037785]\n",
      " [0.36466184]\n",
      " [0.42300886]\n",
      " [0.10052546]\n",
      " [0.02508328]\n",
      " [0.46974552]\n",
      " [0.08756641]\n",
      " [0.30699503]\n",
      " [0.00793946]\n",
      " [0.09456567]\n",
      " [0.24192782]\n",
      " [0.45924407]\n",
      " [0.18167274]\n",
      " [0.02432691]\n",
      " [0.07275221]\n",
      " [0.49307606]\n",
      " [0.05246865]\n",
      " [0.15228297]\n",
      " [0.01507232]\n",
      " [0.05785725]\n",
      " [0.02469613]\n",
      " [0.41519353]\n",
      " [0.05132908]\n",
      " [0.47395268]\n",
      " [0.25532317]\n",
      " [0.19969554]\n",
      " [0.01297697]\n",
      " [0.1414309 ]\n",
      " [0.03953815]\n",
      " [0.03001891]\n",
      " [0.01497411]\n",
      " [0.1932216 ]\n",
      " [0.07978354]\n",
      " [0.2663091 ]\n",
      " [0.08237992]\n",
      " [0.30141386]\n",
      " [0.38727736]\n",
      " [0.28018266]\n",
      " [0.07861457]\n",
      " [0.01866939]\n",
      " [0.28418842]\n",
      " [0.326606  ]\n",
      " [0.08380151]\n",
      " [0.32515824]\n",
      " [0.01821523]\n",
      " [0.17621256]\n",
      " [0.40754563]\n",
      " [0.23410937]\n",
      " [0.04044575]\n",
      " [0.03043653]\n",
      " [0.03028282]\n",
      " [0.17184645]\n",
      " [0.36410248]\n",
      " [0.07693563]\n",
      " [0.25443467]\n",
      " [0.06861509]\n",
      " [0.4411026 ]\n",
      " [0.16412449]\n",
      " [0.13270932]\n",
      " [0.22145188]\n",
      " [0.23024908]\n",
      " [0.3695216 ]\n",
      " [0.4113309 ]\n",
      " [0.03386202]\n",
      " [0.18533625]\n",
      " [0.41641167]\n",
      " [0.17685407]\n",
      " [0.01942968]\n",
      " [0.03683678]\n",
      " [0.1692739 ]\n",
      " [0.0176449 ]\n",
      " [0.06234036]\n",
      " [0.15807287]\n",
      " [0.45481503]\n",
      " [0.01106131]\n",
      " [0.04943674]\n",
      " [0.09616645]\n",
      " [0.2172044 ]\n",
      " [0.32817292]\n",
      " [0.04877259]\n",
      " [0.05282253]\n",
      " [0.39555916]\n",
      " [0.09752775]\n",
      " [0.05025789]\n",
      " [0.04158499]\n",
      " [0.08573556]\n",
      " [0.03457324]\n",
      " [0.02404069]\n",
      " [0.39280275]\n",
      " [0.02761185]\n",
      " [0.14673947]\n",
      " [0.09708413]\n",
      " [0.14071213]\n",
      " [0.00898332]\n",
      " [0.03894384]\n",
      " [0.45614412]\n",
      " [0.23772503]\n",
      " [0.45159155]\n",
      " [0.01620262]\n",
      " [0.15000571]\n",
      " [0.44856283]\n",
      " [0.22360633]\n",
      " [0.01226554]\n",
      " [0.02004947]\n",
      " [0.04892406]\n",
      " [0.01063695]\n",
      " [0.01913779]\n",
      " [0.05281664]\n",
      " [0.46247122]\n",
      " [0.02226755]\n",
      " [0.1262491 ]\n",
      " [0.05178174]\n",
      " [0.07022223]\n",
      " [0.03887738]\n",
      " [0.12033198]\n",
      " [0.19124714]\n",
      " [0.11206261]\n",
      " [0.07592851]\n",
      " [0.4645186 ]\n",
      " [0.23896076]\n",
      " [0.11148192]\n",
      " [0.0825983 ]\n",
      " [0.0980597 ]\n",
      " [0.06996056]\n",
      " [0.24829563]\n",
      " [0.41260472]\n",
      " [0.3233169 ]\n",
      " [0.1479148 ]\n",
      " [0.26758677]\n",
      " [0.15930298]\n",
      " [0.3051492 ]\n",
      " [0.03575695]\n",
      " [0.13467668]\n",
      " [0.02862434]\n",
      " [0.0165621 ]\n",
      " [0.03525229]\n",
      " [0.35678545]\n",
      " [0.16420078]\n",
      " [0.48068723]\n",
      " [0.06882403]\n",
      " [0.3527504 ]\n",
      " [0.11849705]\n",
      " [0.2594138 ]\n",
      " [0.01571717]\n",
      " [0.3046858 ]\n",
      " [0.31324846]\n",
      " [0.34130245]\n",
      " [0.2715736 ]\n",
      " [0.48499694]\n",
      " [0.13235672]\n",
      " [0.17384791]\n",
      " [0.10653964]\n",
      " [0.04051552]\n",
      " [0.10049023]\n",
      " [0.03961655]\n",
      " [0.42606494]\n",
      " [0.08010064]\n",
      " [0.04830703]\n",
      " [0.09886678]\n",
      " [0.3970634 ]\n",
      " [0.29402012]\n",
      " [0.04637147]\n",
      " [0.4060312 ]\n",
      " [0.24564165]\n",
      " [0.03339686]\n",
      " [0.33163974]\n",
      " [0.41129377]\n",
      " [0.01312244]\n",
      " [0.09551144]\n",
      " [0.29589474]\n",
      " [0.35119265]\n",
      " [0.02372127]\n",
      " [0.30154595]\n",
      " [0.06613512]\n",
      " [0.05017607]\n",
      " [0.28913555]\n",
      " [0.00777304]\n",
      " [0.02272064]\n",
      " [0.38248286]\n",
      " [0.19001591]\n",
      " [0.41823092]\n",
      " [0.13195959]\n",
      " [0.44955626]\n",
      " [0.2737978 ]\n",
      " [0.14941448]\n",
      " [0.3590265 ]\n",
      " [0.01135841]\n",
      " [0.0744777 ]\n",
      " [0.12820178]\n",
      " [0.19263303]\n",
      " [0.11520168]\n",
      " [0.2399861 ]\n",
      " [0.4895412 ]\n",
      " [0.01210788]\n",
      " [0.19930883]\n",
      " [0.40666026]\n",
      " [0.02447167]\n",
      " [0.08594472]\n",
      " [0.43920347]\n",
      " [0.03566224]\n",
      " [0.00913284]\n",
      " [0.18400806]\n",
      " [0.18524545]\n",
      " [0.02579905]\n",
      " [0.13202807]\n",
      " [0.04835757]\n",
      " [0.05322414]\n",
      " [0.00972162]\n",
      " [0.4792837 ]\n",
      " [0.03966454]\n",
      " [0.02906559]\n",
      " [0.02200398]\n",
      " [0.01531498]\n",
      " [0.45240617]\n",
      " [0.06774785]\n",
      " [0.41208902]\n",
      " [0.02021247]\n",
      " [0.10538486]\n",
      " [0.2065752 ]\n",
      " [0.03223875]\n",
      " [0.21107557]\n",
      " [0.1543308 ]\n",
      " [0.01287799]\n",
      " [0.11117481]\n",
      " [0.00592593]\n",
      " [0.19914806]\n",
      " [0.06608634]\n",
      " [0.01425505]\n",
      " [0.23624164]\n",
      " [0.19200309]\n",
      " [0.01415444]\n",
      " [0.0103102 ]\n",
      " [0.22349988]\n",
      " [0.01175959]\n",
      " [0.01840131]\n",
      " [0.03786313]\n",
      " [0.04013532]\n",
      " [0.01677817]\n",
      " [0.19514722]\n",
      " [0.0699203 ]\n",
      " [0.28457373]\n",
      " [0.08283281]\n",
      " [0.17561778]\n",
      " [0.48529088]\n",
      " [0.20432247]\n",
      " [0.01018182]\n",
      " [0.02749798]\n",
      " [0.1377819 ]\n",
      " [0.4402913 ]\n",
      " [0.01175243]\n",
      " [0.01284211]\n",
      " [0.11841444]\n",
      " [0.02949504]\n",
      " [0.24800532]\n",
      " [0.14661238]\n",
      " [0.0108277 ]\n",
      " [0.21988808]\n",
      " [0.163327  ]\n",
      " [0.2279361 ]\n",
      " [0.08153945]\n",
      " [0.10986214]\n",
      " [0.00923814]\n",
      " [0.09367225]\n",
      " [0.34001318]\n",
      " [0.16202775]\n",
      " [0.00848201]\n",
      " [0.47587013]\n",
      " [0.06197916]\n",
      " [0.01059061]\n",
      " [0.1434755 ]\n",
      " [0.02228013]\n",
      " [0.22816329]\n",
      " [0.08291901]\n",
      " [0.14437923]\n",
      " [0.01486118]\n",
      " [0.39621425]\n",
      " [0.04620683]\n",
      " [0.18157284]\n",
      " [0.23072234]\n",
      " [0.04251694]\n",
      " [0.47266498]\n",
      " [0.27845445]\n",
      " [0.02891453]\n",
      " [0.11551624]\n",
      " [0.44132116]\n",
      " [0.01405636]\n",
      " [0.01970302]\n",
      " [0.0123864 ]\n",
      " [0.31215644]\n",
      " [0.07439385]\n",
      " [0.0872457 ]\n",
      " [0.09706694]\n",
      " [0.01680746]\n",
      " [0.09514846]\n",
      " [0.0155189 ]\n",
      " [0.13273814]\n",
      " [0.01771865]\n",
      " [0.09052369]\n",
      " [0.16211464]\n",
      " [0.01456122]\n",
      " [0.02503239]\n",
      " [0.24504939]\n",
      " [0.3164542 ]\n",
      " [0.19830652]\n",
      " [0.01404459]\n",
      " [0.05267952]\n",
      " [0.24301453]\n",
      " [0.0102416 ]\n",
      " [0.40821192]\n",
      " [0.01258303]\n",
      " [0.01239093]\n",
      " [0.02486622]\n",
      " [0.02370568]\n",
      " [0.03028762]\n",
      " [0.26857278]\n",
      " [0.33170438]\n",
      " [0.35090744]\n",
      " [0.01034566]\n",
      " [0.01501842]\n",
      " [0.31572434]\n",
      " [0.21296695]\n",
      " [0.16201949]\n",
      " [0.32879984]\n",
      " [0.1375067 ]\n",
      " [0.4860976 ]\n",
      " [0.29940155]\n",
      " [0.14279763]\n",
      " [0.12385944]\n",
      " [0.46731633]\n",
      " [0.05711677]\n",
      " [0.27960512]\n",
      " [0.0734702 ]\n",
      " [0.01528057]\n",
      " [0.02095975]\n",
      " [0.14524034]\n",
      " [0.2961188 ]\n",
      " [0.035676  ]\n",
      " [0.0665964 ]\n",
      " [0.40935117]\n",
      " [0.14593819]\n",
      " [0.04472164]\n",
      " [0.00969115]\n",
      " [0.0100543 ]\n",
      " [0.17046912]\n",
      " [0.04270172]\n",
      " [0.11760432]\n",
      " [0.19572994]\n",
      " [0.41587028]\n",
      " [0.44519174]\n",
      " [0.27351195]\n",
      " [0.1869344 ]\n",
      " [0.01601001]\n",
      " [0.20096506]\n",
      " [0.00890516]\n",
      " [0.00828174]\n",
      " [0.4594742 ]\n",
      " [0.02217441]\n",
      " [0.01617127]\n",
      " [0.00942543]\n",
      " [0.10093691]\n",
      " [0.03120672]\n",
      " [0.1469172 ]\n",
      " [0.02998503]\n",
      " [0.05301329]\n",
      " [0.02304241]\n",
      " [0.35153276]\n",
      " [0.31270874]\n",
      " [0.39734963]\n",
      " [0.06810384]\n",
      " [0.02062041]\n",
      " [0.47100577]\n",
      " [0.06077013]\n",
      " [0.18286175]\n",
      " [0.10836812]\n",
      " [0.16640793]\n",
      " [0.39734963]\n",
      " [0.39734963]\n",
      " [0.04940568]\n",
      " [0.02190777]\n",
      " [0.39076388]\n",
      " [0.00858568]\n",
      " [0.26439297]\n",
      " [0.31270874]\n",
      " [0.26305297]\n",
      " [0.03126626]\n",
      " [0.05155391]\n",
      " [0.02506028]\n",
      " [0.28190228]\n",
      " [0.32009122]\n",
      " [0.04583586]\n",
      " [0.02459942]\n",
      " [0.0090077 ]\n",
      " [0.15288512]\n",
      " [0.2889185 ]\n",
      " [0.08562697]\n",
      " [0.09584585]\n",
      " [0.25136885]\n",
      " [0.07985852]\n",
      " [0.04550787]\n",
      " [0.2417903 ]\n",
      " [0.06994922]\n",
      " [0.00619242]\n",
      " [0.03435523]\n",
      " [0.08325006]\n",
      " [0.05346321]\n",
      " [0.03419602]\n",
      " [0.00915596]\n",
      " [0.02670722]\n",
      " [0.30310583]\n",
      " [0.01878649]\n",
      " [0.03981778]]\n"
     ]
    }
   ],
   "source": [
    "x_test_negative = np.array([1.0 if n>0.5 else 0.0 for n in x_model_test])\n",
    "zero_indices_test = np.where(x_test_negative == 0.0)[0]  \n",
    "zero_values_test = x_model_test[zero_indices_test]\n",
    "print(\"****************Sonucu 0 olan değerlerin indexleri:****************\",'\\n', zero_indices_test)\n",
    "print(\"****************Sonucu 0 olan değerlerin değerleri:****************\",'\\n', zero_values_test)"
   ]
  },
  {
   "cell_type": "code",
   "execution_count": 68,
   "id": "6cfb8fdc-d5ed-41c8-884f-13f405b71646",
   "metadata": {},
   "outputs": [
    {
     "data": {
      "text/plain": [
       "array([0.9972023], dtype=float32)"
      ]
     },
     "execution_count": 68,
     "metadata": {},
     "output_type": "execute_result"
    }
   ],
   "source": [
    "x_model_test[180] # 180.yorumun model tahmini"
   ]
  },
  {
   "cell_type": "code",
   "execution_count": 69,
   "id": "8e4345bb-89ad-4625-a0bb-088466d8f7bc",
   "metadata": {},
   "outputs": [
    {
     "data": {
      "text/plain": [
       "'10 Yıldır kullanıyorum.Memnunum.'"
      ]
     },
     "execution_count": 69,
     "metadata": {},
     "output_type": "execute_result"
    }
   ],
   "source": [
    "x_test[180] # 180.yorum"
   ]
  },
  {
   "cell_type": "code",
   "execution_count": 70,
   "id": "82d85b09-41bc-4e21-ba72-3dd6bd554e6e",
   "metadata": {},
   "outputs": [
    {
     "data": {
      "text/plain": [
       "array([0.01506572], dtype=float32)"
      ]
     },
     "execution_count": 70,
     "metadata": {},
     "output_type": "execute_result"
    }
   ],
   "source": [
    "x_model_test[951]"
   ]
  },
  {
   "cell_type": "code",
   "execution_count": 71,
   "id": "f8c31bc2-f1a7-4ad5-957e-ecd36265af2b",
   "metadata": {},
   "outputs": [
    {
     "data": {
      "text/plain": [
       "'Malesef kedim beğenmedi koklayıp koklayıp geri gidiyor inat ettik yesin diye ama 2 gündür bir lokma yemeden aç bekliyor'"
      ]
     },
     "execution_count": 71,
     "metadata": {},
     "output_type": "execute_result"
    }
   ],
   "source": [
    "x_test[951]  "
   ]
  },
  {
   "cell_type": "code",
   "execution_count": 72,
   "id": "7dfcfe95-414f-4d6d-8eb9-a25db544743f",
   "metadata": {},
   "outputs": [
    {
     "name": "stdout",
     "output_type": "stream",
     "text": [
      "32/32 [==============================] - 1s 23ms/step\n"
     ]
    }
   ],
   "source": [
    "# Modelin yaptığı hatalara bakmak\n",
    "y_pred = model.predict(x=x_test_pad[0:1000])\n",
    "y_pred = y_pred.T[0]      #Modeli ilk 1000 üzerinde çalıştırmak bu yorumlarda yanlış tahmin ettiği yorumları bulmak için bir matris oluşturduk."
   ]
  },
  {
   "cell_type": "code",
   "execution_count": 73,
   "id": "b7cb76de-83d4-4186-8c18-c14c5cf5d6bf",
   "metadata": {},
   "outputs": [],
   "source": [
    "cls_pred = np.array([1.0 if p>0.5 else 0.0 for p in y_pred]) # Modelin tahminlerini 1 veya 0 olarak atama işlemi."
   ]
  },
  {
   "cell_type": "code",
   "execution_count": 74,
   "id": "9e63b05f-663a-465c-80cf-2e8722463275",
   "metadata": {},
   "outputs": [],
   "source": [
    "cls_true = np.array(y_test[0:1000]) "
   ]
  },
  {
   "cell_type": "code",
   "execution_count": 75,
   "id": "5b19d5a3-ad77-40a9-bea6-7cf3ea477b86",
   "metadata": {},
   "outputs": [],
   "source": [
    "incorrect = np.where(cls_pred != cls_true) # Karşılaştırma işlemi\n",
    "incorrect = incorrect[0]"
   ]
  },
  {
   "cell_type": "code",
   "execution_count": 76,
   "id": "5119a6a5-ed33-4d29-97d8-dc05facf0e31",
   "metadata": {},
   "outputs": [
    {
     "data": {
      "text/plain": [
       "53"
      ]
     },
     "execution_count": 76,
     "metadata": {},
     "output_type": "execute_result"
    }
   ],
   "source": [
    "len(incorrect) # Kaç tane yorumun yanlış seçildiğini gösterir."
   ]
  },
  {
   "cell_type": "code",
   "execution_count": 77,
   "id": "d0b2a8a9-7e3f-45fb-9851-27163b37726d",
   "metadata": {},
   "outputs": [
    {
     "data": {
      "text/plain": [
       "149"
      ]
     },
     "execution_count": 77,
     "metadata": {},
     "output_type": "execute_result"
    }
   ],
   "source": [
    "idx = incorrect[9] # Yanlış bilinen yorumun indexi\n",
    "idx"
   ]
  },
  {
   "cell_type": "code",
   "execution_count": 78,
   "id": "5c61eb55-c236-47a5-b148-a84c093f9444",
   "metadata": {},
   "outputs": [
    {
     "data": {
      "text/plain": [
       "'Ürünü alalı çok olmadı, tarifine göre ektim bakalım. 4-5 gün oldu bazı tohumların uçları görünmeye başladı. Plastik kap beni de şaşırttı aslında, resimde ki gibi bir yükselti ya da karton kılıf bekliyordum.   Çıksınlar bakalım kedim umarım sever. Ama arkadaşların dediği gibi çim yerken yerinden çıkıyorsa kötü, benim kedim 4 aylık daha ön dişleri çok keskin değil..'"
      ]
     },
     "execution_count": 78,
     "metadata": {},
     "output_type": "execute_result"
    }
   ],
   "source": [
    "text = x_test[idx] # İndexteki yanlış yorumu görme\n",
    "text"
   ]
  },
  {
   "cell_type": "code",
   "execution_count": 79,
   "id": "c86c8817-016c-442a-92af-5db8efd7afac",
   "metadata": {
    "scrolled": true
   },
   "outputs": [
    {
     "data": {
      "text/plain": [
       "0.5977849"
      ]
     },
     "execution_count": 79,
     "metadata": {},
     "output_type": "execute_result"
    }
   ],
   "source": [
    "y_pred[idx] # Modelin idx index deki yoruma tahmini"
   ]
  },
  {
   "cell_type": "code",
   "execution_count": 80,
   "id": "8cae29ca-3b65-44d6-b543-558cdf56196b",
   "metadata": {},
   "outputs": [],
   "source": [
    "#Model yorumun olumlu olduğunu düşünüyor fakat yorum olumsuz bu yüzden model bu yorumu yanlış tahmin etmiş."
   ]
  },
  {
   "cell_type": "code",
   "execution_count": 81,
   "id": "7efb3585-f107-41f1-8b4e-dfc5057ba3cb",
   "metadata": {},
   "outputs": [
    {
     "data": {
      "text/plain": [
       "0"
      ]
     },
     "execution_count": 81,
     "metadata": {},
     "output_type": "execute_result"
    }
   ],
   "source": [
    "cls_true[idx] # Bu yorumun olumsuz olduğunu gösterir."
   ]
  },
  {
   "cell_type": "code",
   "execution_count": 82,
   "id": "3281b04f-b5b5-4af9-b12a-1c8cac340059",
   "metadata": {},
   "outputs": [],
   "source": [
    "#Kendi yorumlarımızı yazarak da modelin yorumlar hakkındaki olumlu ya da olumsuz tahminlerini görebiliriz."
   ]
  },
  {
   "cell_type": "code",
   "execution_count": 83,
   "id": "980026fa-14c4-46b8-bf66-da5210842bcf",
   "metadata": {},
   "outputs": [],
   "source": [
    "text1 = \"bu ürün çok iyi herkese tavsiye ederim\"\n",
    "text2 = \"kargo çok hızlı aynı gün elime geçti\"\n",
    "text3 = \"büyük bir hayal kırıklığı yaşadım bu ürün bu markaya yakışmamış\"\n",
    "text4 = \"mükemmel\"\n",
    "text5 = \"tasarımı harika ancak kargo çok geç geldi ve ürün açılmıştı tavsiye etmem\"\n",
    "text6 = \"hiç resimde gösterildiği gibi değil\"\n",
    "text7 = \"kötü yorumlar gözümü korkutmuştu ancak hiçbir sorun yaşamadım teşekkürler\"\n",
    "text8 = \"hiç bu kadar kötü bir satıcıya denk gelmemiştim ürünü geri iade ediyorum\"\n",
    "text9 = \"tam bir fiyat performans ürünü\"\n",
    "text10 = \"beklediğim gibi çıkmadı\"\n",
    "text11 = \"fiyat olarak fena değil ama performans olarak kötü\" \n",
    "text12 = \"bölye bir ürün görmedim, çöp\"\n",
    "texts = [text1, text2, text3, text4, text5, text6, text7, text8, text9, text10,text11,text12]"
   ]
  },
  {
   "cell_type": "code",
   "execution_count": 84,
   "id": "f5b6e6fd-c583-45cf-a0d6-3b3e461d781f",
   "metadata": {},
   "outputs": [],
   "source": [
    "tokens = tokenizer.texts_to_sequences(texts) "
   ]
  },
  {
   "cell_type": "code",
   "execution_count": 85,
   "id": "c9ef99f9-088d-4b4f-8f40-40f389942b16",
   "metadata": {},
   "outputs": [
    {
     "data": {
      "text/plain": [
       "(12, 59)"
      ]
     },
     "execution_count": 85,
     "metadata": {},
     "output_type": "execute_result"
    }
   ],
   "source": [
    "tokens_pad = pad_sequences(tokens, maxlen=max_tokens)\n",
    "tokens_pad.shape"
   ]
  },
  {
   "cell_type": "code",
   "execution_count": 86,
   "id": "1f30595b-c0d7-4f51-a63b-bd9ff0fd6785",
   "metadata": {},
   "outputs": [
    {
     "name": "stdout",
     "output_type": "stream",
     "text": [
      "1/1 [==============================] - 0s 35ms/step\n"
     ]
    },
    {
     "data": {
      "text/plain": [
       "array([[0.9972661 ],\n",
       "       [0.9949449 ],\n",
       "       [0.07316323],\n",
       "       [0.99662715],\n",
       "       [0.13908598],\n",
       "       [0.09518111],\n",
       "       [0.9942308 ],\n",
       "       [0.02050664],\n",
       "       [0.99604714],\n",
       "       [0.36644265],\n",
       "       [0.0799331 ],\n",
       "       [0.04755048]], dtype=float32)"
      ]
     },
     "execution_count": 86,
     "metadata": {},
     "output_type": "execute_result"
    }
   ],
   "source": [
    "model.predict(tokens_pad)"
   ]
  }
 ],
 "metadata": {
  "kernelspec": {
   "display_name": "Python 3 (ipykernel)",
   "language": "python",
   "name": "python3"
  },
  "language_info": {
   "codemirror_mode": {
    "name": "ipython",
    "version": 3
   },
   "file_extension": ".py",
   "mimetype": "text/x-python",
   "name": "python",
   "nbconvert_exporter": "python",
   "pygments_lexer": "ipython3",
   "version": "3.11.5"
  }
 },
 "nbformat": 4,
 "nbformat_minor": 5
}
